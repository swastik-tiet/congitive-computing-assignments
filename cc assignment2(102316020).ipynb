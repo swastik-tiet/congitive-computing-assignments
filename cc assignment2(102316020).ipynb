{
 "cells": [
  {
   "cell_type": "code",
   "execution_count": 34,
   "id": "25d256c3-cc08-4831-9da0-4ab15d4b3933",
   "metadata": {},
   "outputs": [
    {
     "name": "stdout",
     "output_type": "stream",
     "text": [
      "[10, 20, 30, 40, 50, 60, 70, 80, 200, 300]\n",
      "[20, 40, 50, 60, 70, 80, 200, 300]\n",
      "[20, 40, 50, 60, 70, 80, 200, 300]\n",
      "[300, 200, 80, 70, 60, 50, 40, 20]\n"
     ]
    }
   ],
   "source": [
    "l=[10,20,30,40,50,60,70,80]\n",
    "#add 200 and 300 to l.\n",
    "l.append(200)\n",
    "l.append(300)\n",
    "print(l)\n",
    "#remove 10 and 30 from l.\n",
    "l.pop(0)\n",
    "\n",
    "del l[1]\n",
    "print(l)\n",
    "#sort l in ascending order.\n",
    "l.sort()\n",
    "print(l)\n",
    "#sort l in descending order.\n",
    "l.sort(reverse=True)\n",
    "print(l)\n",
    "\n",
    "\n"
   ]
  },
  {
   "cell_type": "code",
   "execution_count": 44,
   "id": "75cbecad-0ca9-4cd5-aa00-25830287d034",
   "metadata": {},
   "outputs": [
    {
     "name": "stdout",
     "output_type": "stream",
     "text": [
      "92\n",
      "5\n",
      "45\n",
      "2\n",
      "[45, 58, 92, 89, 45.4, 76, 89.5, 45]\n",
      "2\n"
     ]
    }
   ],
   "source": [
    "t=(45, 89.5, 76, 45.4, 89, 92, 58, 45)\n",
    "#Identify the highest score and its index in the tuple.\n",
    "a=max(t)\n",
    "print(a)\n",
    "print(t.index(a))\n",
    "#Find the lowest score and count how many times it appears.\n",
    "b=min(t)\n",
    "print(b)\n",
    "print(t.count(b))\n",
    "#Reverse the tuple and return it as a list.\n",
    "print(list(reversed(t)))\n",
    "#Check if a specific score ‘76’ (input by the user) is present in the tuple and print its first occurrence index, or a message saying it’s not present.\n",
    "if 76 in t:\n",
    "    print(t.index(76))\n",
    "else:\n",
    "    print(\"no index\")\n",
    "\n"
   ]
  },
  {
   "cell_type": "code",
   "execution_count": 62,
   "id": "70057f23-f0d7-4301-babb-233d8a530998",
   "metadata": {},
   "outputs": [
    {
     "name": "stdout",
     "output_type": "stream",
     "text": [
      "[318, 729, 357, 619, 866, 702, 660, 390, 718, 524, 146, 103, 167, 735, 845, 534, 476, 483, 328, 471, 292, 774, 553, 413, 831, 568, 393, 318, 598, 602, 329, 869, 327, 226, 813, 652, 250, 528, 410, 823, 579, 547, 680, 667, 473, 751, 693, 566, 517, 481, 417, 305, 395, 524, 319, 374, 742, 747, 271, 558, 706, 676, 812, 477, 799, 893, 482, 686, 285, 598, 195, 708, 663, 247, 797, 107, 226, 450, 630, 273, 849, 608, 215, 700, 697, 620, 482, 672, 294, 701, 702, 295, 715, 733, 286, 489, 129, 345, 730, 448, 868]\n",
      "[729, 357, 619, 103, 167, 735, 845, 483, 471, 553, 413, 831, 393, 329, 869, 327, 813, 823, 579, 547, 667, 473, 751, 693, 517, 481, 417, 305, 395, 319, 747, 271, 477, 799, 893, 285, 195, 663, 247, 797, 107, 273, 849, 215, 697, 701, 295, 715, 733, 489, 129, 345]\n",
      "[318, 866, 702, 660, 390, 718, 524, 146, 534, 476, 328, 292, 774, 568, 318, 598, 602, 226, 652, 250, 528, 410, 680, 566, 524, 374, 742, 558, 706, 676, 812, 482, 686, 598, 708, 226, 450, 630, 608, 700, 620, 482, 672, 294, 702, 286, 730, 448, 868]\n",
      "[619, 103, 167, 823, 547, 751, 271, 797, 107, 701, 733]\n",
      "52\n",
      "49\n",
      "11\n"
     ]
    }
   ],
   "source": [
    "#create a list of 100 random numbers between 100 and 900.\n",
    "import random\n",
    "l=[]\n",
    "for i in range(101):\n",
    "    l.append(random.randint(100,901))\n",
    "print(l)\n",
    "oddnum=[]\n",
    "evennum=[]\n",
    "primenum=[]\n",
    "def is_prime(num):\n",
    "    if num <= 1:\n",
    "        return False\n",
    "    for i in range(2, int(num**0.5) + 1):\n",
    "        if num % i == 0:\n",
    "            return False\n",
    "    return True\n",
    "for i in l:\n",
    "    if i%2!=0:\n",
    "        oddnum.append(i)\n",
    "    if i%2==0:\n",
    "        evennum.append(i)\n",
    "    if is_prime(i):\n",
    "        primenum.append(i)\n",
    "#print the odd numbers\n",
    "print(oddnum)\n",
    "#print the even numbers\n",
    "print(evennum)\n",
    "#print the prime numbers\n",
    "print(primenum)\n",
    "#count the odd numbers\n",
    "print(len(oddnum))\n",
    "#count the even numbers\n",
    "print(len(evennum))\n",
    "#count the prime numbers\n",
    "print(len(primenum))\n",
    "\n",
    "\n",
    "\n",
    "\n",
    "\n",
    "\n",
    "\n",
    "\n",
    "\n"
   ]
  },
  {
   "cell_type": "code",
   "execution_count": 64,
   "id": "f1321b15-7ca6-4758-a364-9ef49fe6a65e",
   "metadata": {},
   "outputs": [
    {
     "name": "stdout",
     "output_type": "stream",
     "text": [
      "{34, 45, 78, 23, 56, 90}\n",
      "{90, 78}\n",
      "{34, 45, 23, 56}\n",
      "False\n",
      "False\n"
     ]
    },
    {
     "name": "stdin",
     "output_type": "stream",
     "text": [
      "enter the number: 23\n"
     ]
    },
    {
     "name": "stdout",
     "output_type": "stream",
     "text": [
      "it is not present\n"
     ]
    }
   ],
   "source": [
    "A = {34, 56, 78, 90}\n",
    "B = {78, 45, 90, 23}\n",
    "#UNION OF TWO SETS\n",
    "print(A.union(B))\n",
    "#INTERSECTION OF 2 SETS\n",
    "print(A.intersection(B))\n",
    "#SYMMETRIC DIFFERENCE OF TWO SETS\n",
    "print(A.symmetric_difference(B))\n",
    "#check if a is the subset of b and b is the superset of a\n",
    "print(A.issubset(B))\n",
    "print(B.issuperset(A))\n",
    "#Remove a specific score X (input by the user) from set A if it exists. If not, printa message saying it is not present.\n",
    "x=int(input(\"enter the number:\"))\n",
    "if x in A:\n",
    "    A.remove(x)\n",
    "else:\n",
    "    print(\"it is not present\")\n",
    "\n"
   ]
  },
  {
   "cell_type": "code",
   "execution_count": null,
   "id": "c8e13c18-b4fe-4acb-9e35-ed7821849a13",
   "metadata": {},
   "outputs": [],
   "source": [
    "sample_dict={\n",
    "    \"name\":\"kelly\",\"age\":25,\"salary\":8000,\"city\":\"New York\"}\n",
    "sample_dict[\"city\"]=sam"
   ]
  },
  {
   "cell_type": "code",
   "execution_count": null,
   "id": "b3417c45-409a-4aef-b912-81ad1443c43c",
   "metadata": {},
   "outputs": [],
   "source": []
  },
  {
   "cell_type": "code",
   "execution_count": null,
   "id": "904f2459-2ef9-4949-bcbc-95a8ffd4f09f",
   "metadata": {},
   "outputs": [],
   "source": []
  },
  {
   "cell_type": "code",
   "execution_count": null,
   "id": "c2d5ad65-343b-4878-b1f1-779943b6c8b3",
   "metadata": {},
   "outputs": [],
   "source": []
  },
  {
   "cell_type": "code",
   "execution_count": null,
   "id": "2b26f967-f64c-46dd-be38-7d791defe838",
   "metadata": {},
   "outputs": [],
   "source": []
  },
  {
   "cell_type": "code",
   "execution_count": null,
   "id": "4209a1e5-cee8-4b47-bcae-8a81d62619e6",
   "metadata": {},
   "outputs": [],
   "source": []
  },
  {
   "cell_type": "code",
   "execution_count": null,
   "id": "afccef0f-85f8-4bed-b26b-95398ad91742",
   "metadata": {},
   "outputs": [],
   "source": []
  },
  {
   "cell_type": "code",
   "execution_count": null,
   "id": "23f1cbfd-266f-45d3-8260-1d5a881779fb",
   "metadata": {},
   "outputs": [],
   "source": []
  },
  {
   "cell_type": "code",
   "execution_count": null,
   "id": "92c8afe5-a0bc-427e-b610-dd6daaeb606f",
   "metadata": {},
   "outputs": [],
   "source": []
  },
  {
   "cell_type": "code",
   "execution_count": null,
   "id": "0468f05e-1b70-4fb2-aeae-39a3e54d20fe",
   "metadata": {},
   "outputs": [],
   "source": []
  },
  {
   "cell_type": "code",
   "execution_count": null,
   "id": "c40ad421-5ce9-40db-8652-b0358e753b94",
   "metadata": {},
   "outputs": [],
   "source": []
  },
  {
   "cell_type": "code",
   "execution_count": null,
   "id": "c9f42b23-709a-4289-9763-821b9c6863f5",
   "metadata": {},
   "outputs": [],
   "source": []
  },
  {
   "cell_type": "code",
   "execution_count": null,
   "id": "16d63f94-bbc6-49a0-9677-3b9a91d9d7a5",
   "metadata": {},
   "outputs": [],
   "source": []
  },
  {
   "cell_type": "code",
   "execution_count": null,
   "id": "19f5a968-e972-4162-8a85-106a2d34859b",
   "metadata": {},
   "outputs": [],
   "source": []
  }
 ],
 "metadata": {
  "kernelspec": {
   "display_name": "Python [conda env:base] *",
   "language": "python",
   "name": "conda-base-py"
  },
  "language_info": {
   "codemirror_mode": {
    "name": "ipython",
    "version": 3
   },
   "file_extension": ".py",
   "mimetype": "text/x-python",
   "name": "python",
   "nbconvert_exporter": "python",
   "pygments_lexer": "ipython3",
   "version": "3.12.7"
  }
 },
 "nbformat": 4,
 "nbformat_minor": 5
}
