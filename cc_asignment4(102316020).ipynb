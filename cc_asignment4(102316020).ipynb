{
 "cells": [
  {
   "cell_type": "markdown",
   "id": "cee5b57d-dd85-4947-8e72-e968d882039c",
   "metadata": {},
   "source": [
    "Q.1 Write a program to create a NumPy 1D-array with 5 elements and perform basic\n",
    "operations like:\n",
    "a) Addition of 2 in all the element\n",
    "b) Multiply 3 with all the elements\n",
    "c) Divide every element by 2\n",
    "\n"
   ]
  },
  {
   "cell_type": "code",
   "execution_count": 7,
   "id": "48ec1c66-5de4-48b5-8318-2535adc6e348",
   "metadata": {},
   "outputs": [],
   "source": [
    "import numpy as np"
   ]
  },
  {
   "cell_type": "code",
   "execution_count": 9,
   "id": "77f1c931-1c44-46de-980c-120b958c5f3f",
   "metadata": {},
   "outputs": [
    {
     "name": "stdout",
     "output_type": "stream",
     "text": [
      "[1 2 3 4 5]\n"
     ]
    }
   ],
   "source": [
    "\n",
    "a=np.array([1,2,3,4,5])\n",
    "print(a)"
   ]
  },
  {
   "cell_type": "code",
   "execution_count": 11,
   "id": "9a699c34-09ce-4bcc-8a94-55a9b648395e",
   "metadata": {},
   "outputs": [
    {
     "name": "stdout",
     "output_type": "stream",
     "text": [
      "[3, 4, 5, 6, 7]\n"
     ]
    }
   ],
   "source": [
    "#a.\n",
    "c=[]\n",
    "for i in range(len(a)):\n",
    "    c.append(a[i]+2)\n",
    "print(c)\n",
    "    "
   ]
  },
  {
   "cell_type": "code",
   "execution_count": 13,
   "id": "5c07e125-f685-49c0-bc70-e922a9f68ca9",
   "metadata": {},
   "outputs": [
    {
     "name": "stdout",
     "output_type": "stream",
     "text": [
      "[3, 6, 9, 12, 15]\n"
     ]
    }
   ],
   "source": [
    "#b.\n",
    "d=[]\n",
    "for i in range(len(a)):\n",
    "    d.append(a[i]*3)\n",
    "print(d)"
   ]
  },
  {
   "cell_type": "code",
   "execution_count": 15,
   "id": "845d3291-1d62-4d89-ba78-f39e34b284fc",
   "metadata": {},
   "outputs": [
    {
     "name": "stdout",
     "output_type": "stream",
     "text": [
      "[0, 1, 1, 2, 2]\n"
     ]
    }
   ],
   "source": [
    "#c.\n",
    "e=[]\n",
    "for i in range(len(a)):\n",
    "    e.append(a[i]//2)\n",
    "print(e)"
   ]
  },
  {
   "cell_type": "markdown",
   "id": "8a3a9043-b091-48bb-9c48-eb9e06cb0781",
   "metadata": {},
   "source": [
    "Q.2 Questions on Basic NumPy Array:\n",
    "a) Reverse the NumPy array: arr = np.array([1, 2, 3, 6, 4, 5])\n",
    "b) Find the most frequent value and their indice(s) in the following arrays:\n",
    "i. x = np.array([1,2,3,4,5,1,2,1,1,1])\n",
    "ii. y = np.array([1, 1, 1, 2, 3, 4, 2, 4, 3, 3, ])"
   ]
  },
  {
   "cell_type": "code",
   "execution_count": 18,
   "id": "39c73894-185d-4ae5-b6bc-d23c131d837b",
   "metadata": {},
   "outputs": [
    {
     "name": "stdout",
     "output_type": "stream",
     "text": [
      "[1 2 3 6 4 5]\n"
     ]
    }
   ],
   "source": [
    "arr=np.array([1,2,3,6,4,5])\n",
    "print(arr)"
   ]
  },
  {
   "cell_type": "code",
   "execution_count": 20,
   "id": "e4a0fc86-8b89-4b3f-8e6c-7f26ae7767f9",
   "metadata": {},
   "outputs": [
    {
     "name": "stdout",
     "output_type": "stream",
     "text": [
      "[5, 4, 6, 3, 2, 1]\n"
     ]
    }
   ],
   "source": [
    "#a.\n",
    "arr1=[]\n",
    "for i in reversed(range(len(arr))):\n",
    "    arr1.append(arr[i])\n",
    "print(arr1)"
   ]
  },
  {
   "cell_type": "code",
   "execution_count": 22,
   "id": "7dc2990e-a3c0-4172-bc50-0d6025f83300",
   "metadata": {},
   "outputs": [
    {
     "name": "stdout",
     "output_type": "stream",
     "text": [
      "most frequent value is : 1\n",
      "index of most frequent value are: [0 5 7 8 9]\n"
     ]
    }
   ],
   "source": [
    "#b.\n",
    "from collections import Counter\n",
    "x=np.array([1,2,3,4,5,1,2,1,1,1])\n",
    "count=Counter(x)\n",
    "mostfrequent,_=count.most_common(1)[0]\n",
    "indices=np.where(x==mostfrequent)[0]\n",
    "print(\"most frequent value is :\",mostfrequent)\n",
    "print(\"index of most frequent value are:\",indices)"
   ]
  },
  {
   "cell_type": "code",
   "execution_count": 24,
   "id": "15ce686d-5379-4c13-ad9f-5dc6756dcd25",
   "metadata": {},
   "outputs": [
    {
     "name": "stdout",
     "output_type": "stream",
     "text": [
      "most frequent value is : 1\n",
      "index of most frequent value are: [0 1 2]\n"
     ]
    }
   ],
   "source": [
    "from collections import Counter\n",
    "y=np.array([1,1,1,2,3,4,2,4,3,3])\n",
    "curr=Counter(y)\n",
    "most_frequent,_=curr.most_common(1)[0]\n",
    "indices1=np.where(y==most_frequent)[0]\n",
    "print(\"most frequent value is :\",most_frequent)\n",
    "print(\"index of most frequent value are:\",indices1)\n"
   ]
  },
  {
   "cell_type": "markdown",
   "id": "cf79ce0d-cc09-49ad-86e5-1692296b5556",
   "metadata": {},
   "source": [
    "Q.3 For the given 2-D array arr=np.array([10, 20, 30], [40, 50, 60], [70, 80, 90]), access\n",
    "elements using row and column indices as follows:\n",
    "a) Access 1st row, 2nd column\n",
    "b) Access 3rd row, 1st column\n"
   ]
  },
  {
   "cell_type": "code",
   "execution_count": 27,
   "id": "db3359db-4859-48dd-9eb2-f910d82c33cd",
   "metadata": {},
   "outputs": [],
   "source": [
    "import numpy as np\n",
    "arr=np.array([[10,20,30],[40,50,60],[70,80,90]])\n"
   ]
  },
  {
   "cell_type": "code",
   "execution_count": 29,
   "id": "a6b3dd11-4e1c-4af6-a762-343ab6dc5b34",
   "metadata": {},
   "outputs": [
    {
     "name": "stdout",
     "output_type": "stream",
     "text": [
      "20\n"
     ]
    }
   ],
   "source": [
    "#3.1\n",
    "element_a=arr[0,1]\n",
    "print(element_a)"
   ]
  },
  {
   "cell_type": "code",
   "execution_count": 31,
   "id": "2f12ddbf-632c-4d6d-860a-c745234c9329",
   "metadata": {},
   "outputs": [
    {
     "name": "stdout",
     "output_type": "stream",
     "text": [
      "70\n"
     ]
    }
   ],
   "source": [
    "#3.2\n",
    "element_b=arr[2,0]\n",
    "print(element_b)"
   ]
  },
  {
   "cell_type": "markdown",
   "id": "c6fdedce-701c-4872-8b96-ec48c708dc94",
   "metadata": {},
   "source": [
    "Q.4 Write program to create an 1-D NumPy array named <<Your Name>> with evenly\n",
    "spaced 25 numbers from 10 to 100 using linspace(). Print the dimensions of the array,\n",
    "shape, total elements, the data type of each element and total number of bytes consumed\n",
    "by the array. Find the transpose of this array using reshape() attribute. Can we do the same\n",
    "with T attribute?"
   ]
  },
  {
   "cell_type": "code",
   "execution_count": 36,
   "id": "7a47a6e7-bb8e-4a57-8c56-5d94a075db2d",
   "metadata": {},
   "outputs": [
    {
     "name": "stdout",
     "output_type": "stream",
     "text": [
      "array: [ 10.    13.75  17.5   21.25  25.    28.75  32.5   36.25  40.    43.75\n",
      "  47.5   51.25  55.    58.75  62.5   66.25  70.    73.75  77.5   81.25\n",
      "  85.    88.75  92.5   96.25 100.  ]\n",
      "dimension of the array: 1\n",
      "shape: (25,)\n",
      "total elements: 25\n",
      "data type: float64\n",
      "no of bytes: 200\n",
      "[[ 10.    13.75  17.5   21.25  25.    28.75  32.5   36.25  40.    43.75\n",
      "   47.5   51.25  55.    58.75  62.5   66.25  70.    73.75  77.5   81.25\n",
      "   85.    88.75  92.5   96.25 100.  ]]\n",
      "[ 10.    13.75  17.5   21.25  25.    28.75  32.5   36.25  40.    43.75\n",
      "  47.5   51.25  55.    58.75  62.5   66.25  70.    73.75  77.5   81.25\n",
      "  85.    88.75  92.5   96.25 100.  ]\n"
     ]
    }
   ],
   "source": [
    "swastik=np.linspace(10,100,25)\n",
    "print(\"array:\",swastik)\n",
    "print(\"dimension of the array:\",swastik.ndim)\n",
    "print(\"shape:\",swastik.shape)\n",
    "print(\"total elements:\",swastik.size)\n",
    "print(\"data type:\",swastik.dtype)\n",
    "print(\"no of bytes:\",swastik.nbytes)\n",
    "reshape_array=swastik.reshape(25,1)\n",
    "transpose_array=reshape_array.T\n",
    "print(transpose_array)\n",
    "direct_transpose=swastik.T\n",
    "print(direct_transpose)"
   ]
  },
  {
   "cell_type": "markdown",
   "id": "43efbab3-dcc4-4659-b25c-ed9f9771b714",
   "metadata": {},
   "source": [
    "Q5. Create a 2-D Array of three rows and four columns, named ucs420_<your_name>>\n",
    "with following values – 10, 20, 30, 40, 50, 60, 70, 80, 90, 15, 20, 35. Compute the mean,\n",
    "median, max, min, unique elements. Reshape the array to four rows and three columns and\n",
    "name it as reshaped_ ucs420_<your_name>>. Resize the array to two rows and three\n",
    "columns and name it as resized_ ucs420_<your_name>>."
   ]
  },
  {
   "cell_type": "code",
   "execution_count": 43,
   "id": "05250b61-e3f9-466c-a8a6-8227aa8d315c",
   "metadata": {},
   "outputs": [
    {
     "name": "stdout",
     "output_type": "stream",
     "text": [
      "43.333333333333336\n",
      "37.5\n",
      "90\n",
      "10\n",
      "[10 15 20 30 35 40 50 60 70 80 90]\n",
      "[[10 20 30]\n",
      " [40 50 60]\n",
      " [70 80 90]\n",
      " [15 20 35]]\n",
      "[[10 20 30]\n",
      " [40 50 60]]\n"
     ]
    }
   ],
   "source": [
    "\n",
    "ucs420_swastik=np.array([[10,20,30,40],[50,60,70,80],[90,15,20,35]])\n",
    "print(np.mean(ucs420_swastik))\n",
    "print(np.median(ucs420_swastik))\n",
    "print(np.max(ucs420_swastik))\n",
    "print(np.min(ucs420_swastik))\n",
    "print(np.unique(ucs420_swastik))\n",
    "reshaped_ucs420_swastik=ucs420_swastik.reshape(4,3)\n",
    "print(reshaped_ucs420_swastik)\n",
    "resized_ucs420_swastik=np.resize(ucs420_swastik,(2,3))\n",
    "print(resized_ucs420_swastik)"
   ]
  },
  {
   "cell_type": "code",
   "execution_count": null,
   "id": "c73b66b4-37d4-4ad6-ac48-e083a33f1383",
   "metadata": {},
   "outputs": [],
   "source": []
  }
 ],
 "metadata": {
  "kernelspec": {
   "display_name": "Python [conda env:base] *",
   "language": "python",
   "name": "conda-base-py"
  },
  "language_info": {
   "codemirror_mode": {
    "name": "ipython",
    "version": 3
   },
   "file_extension": ".py",
   "mimetype": "text/x-python",
   "name": "python",
   "nbconvert_exporter": "python",
   "pygments_lexer": "ipython3",
   "version": "3.12.7"
  }
 },
 "nbformat": 4,
 "nbformat_minor": 5
}
