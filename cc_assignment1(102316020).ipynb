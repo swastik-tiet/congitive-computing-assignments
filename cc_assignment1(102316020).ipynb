{
 "cells": [
  {
   "cell_type": "markdown",
   "id": "12377d14-b42c-4402-b6c6-790503a29c02",
   "metadata": {},
   "source": [
    "Assingment 1.1: WAP to print your name three times"
   ]
  },
  {
   "cell_type": "code",
   "execution_count": 19,
   "id": "c7784532-f14c-4c4b-a0d0-baee90ffa9c1",
   "metadata": {},
   "outputs": [
    {
     "name": "stdout",
     "output_type": "stream",
     "text": [
      "swastik\n",
      "swastik\n",
      "swastik\n"
     ]
    }
   ],
   "source": [
    "print(\"swastik\")\n",
    "print(\"swastik\")\n",
    "print(\"swastik\")\n"
   ]
  },
  {
   "cell_type": "markdown",
   "id": "d28d9f3d-7726-42f1-bfe2-7edab127b441",
   "metadata": {},
   "source": [
    "Assingment 2.1: WAP to add three numbers and print the result."
   ]
  },
  {
   "cell_type": "code",
   "execution_count": 22,
   "id": "f4d3a17e-522c-40ec-9b68-00af652c976c",
   "metadata": {},
   "outputs": [
    {
     "name": "stdout",
     "output_type": "stream",
     "text": [
      "10 + 20 + 30 --> 60\n"
     ]
    }
   ],
   "source": [
    "a=10\n",
    "b=20\n",
    "c=30\n",
    "print(a,\"+\",b,\"+\",c,\"-->\",a+b+c)"
   ]
  },
  {
   "cell_type": "markdown",
   "id": "5d972a4d-a09d-41ed-a2aa-d31d334719c3",
   "metadata": {},
   "source": [
    "Assingment 2.2: WAP to concatinate three strings and print the result."
   ]
  },
  {
   "cell_type": "code",
   "execution_count": 25,
   "id": "526e85f5-26ac-4e77-be08-5c72cb0e0fcf",
   "metadata": {},
   "outputs": [
    {
     "name": "stdout",
     "output_type": "stream",
     "text": [
      "jai + shree + ram --> jaishreeram\n"
     ]
    }
   ],
   "source": [
    "a=\"jai\"\n",
    "b=\"shree\"\n",
    "c=\"ram\"\n",
    "print(a,\"+\",b,\"+\",c,\"-->\",a+b+c)"
   ]
  },
  {
   "cell_type": "markdown",
   "id": "a80a4ddd-088e-4a69-8992-bc5330278b91",
   "metadata": {},
   "source": [
    "Assingment 4.1: WAP to print the table of 7, 9."
   ]
  },
  {
   "cell_type": "code",
   "execution_count": 28,
   "id": "9377b34c-a7ad-4c1f-8e2f-06b7e15f8b0e",
   "metadata": {},
   "outputs": [
    {
     "name": "stdout",
     "output_type": "stream",
     "text": [
      "table of 7:\n",
      "\n",
      "7 * 1 = 7\n",
      "7 * 2 = 14\n",
      "7 * 3 = 21\n",
      "7 * 4 = 28\n",
      "7 * 5 = 35\n",
      "7 * 6 = 42\n",
      "7 * 7 = 49\n",
      "7 * 8 = 56\n",
      "7 * 9 = 63\n",
      "7 * 10 = 70\n",
      "table of 9:\n",
      "\n",
      "9 * 1 = 9\n",
      "9 * 2 = 18\n",
      "9 * 3 = 27\n",
      "9 * 4 = 36\n",
      "9 * 5 = 45\n",
      "9 * 6 = 54\n",
      "9 * 7 = 63\n",
      "9 * 8 = 72\n",
      "9 * 9 = 81\n",
      "9 * 10 = 90\n"
     ]
    }
   ],
   "source": [
    "print(\"table of 7:\\n\")\n",
    "for i in range(1,11):\n",
    "    print(7,\"*\",i,\"=\",i*7)\n",
    "print(\"table of 9:\\n\")\n",
    "for i in range(1,11):\n",
    "    print(9,\"*\",i,\"=\",i*9)"
   ]
  },
  {
   "cell_type": "markdown",
   "id": "9f3116fa-d17e-4e0d-a911-3e8f8f8d4381",
   "metadata": {},
   "source": [
    "Assingment 4.2: WAP to print the table of n and n is given by user."
   ]
  },
  {
   "cell_type": "code",
   "execution_count": 31,
   "id": "3538e01a-7730-40cb-88a7-e336ff1b6cdf",
   "metadata": {},
   "outputs": [
    {
     "name": "stdin",
     "output_type": "stream",
     "text": [
      "enter the number: 6\n"
     ]
    },
    {
     "name": "stdout",
     "output_type": "stream",
     "text": [
      "6 * 1 = 6\n",
      "6 * 2 = 12\n",
      "6 * 3 = 18\n",
      "6 * 4 = 24\n",
      "6 * 5 = 30\n",
      "6 * 6 = 36\n",
      "6 * 7 = 42\n",
      "6 * 8 = 48\n",
      "6 * 9 = 54\n",
      "6 * 10 = 60\n"
     ]
    }
   ],
   "source": [
    "n=int(input(\"enter the number:\"))\n",
    "for i in range(1,11):\n",
    "    print(n,\"*\",i,\"=\",i*n)"
   ]
  },
  {
   "cell_type": "markdown",
   "id": "880ade99-9b35-4417-b9bb-12a52557e44a",
   "metadata": {},
   "source": [
    "Assingment 4.3: WAP to add all the numbers from 1 to n and n is given by user."
   ]
  },
  {
   "cell_type": "code",
   "execution_count": 34,
   "id": "63ca6186-62ba-422a-b0b6-54b06f678f21",
   "metadata": {},
   "outputs": [
    {
     "name": "stdin",
     "output_type": "stream",
     "text": [
      "enter the number: 4\n"
     ]
    },
    {
     "name": "stdout",
     "output_type": "stream",
     "text": [
      "10\n"
     ]
    }
   ],
   "source": [
    "n=int(input(\"enter the number:\"))\n",
    "s=0\n",
    "for i in range(1,n+1):\n",
    "    s=s+i\n",
    "print(s)"
   ]
  },
  {
   "cell_type": "markdown",
   "id": "6f37a7e4-706c-48db-93a3-5ceacaaf7b8f",
   "metadata": {},
   "source": [
    "Assingment 5.1: WAP to find max amoung three numbers and input from user. [Try max() function]"
   ]
  },
  {
   "cell_type": "code",
   "execution_count": 38,
   "id": "292a1a55-1280-4172-85d6-3b4b329ad4a6",
   "metadata": {},
   "outputs": [
    {
     "name": "stdin",
     "output_type": "stream",
     "text": [
      "enter the first number: 45\n",
      "enter the  second number: 77\n",
      "enter the  third number: 55\n"
     ]
    },
    {
     "name": "stdout",
     "output_type": "stream",
     "text": [
      "maximum of ( 45 77 55 ) : 77\n"
     ]
    }
   ],
   "source": [
    "a=int(input(\"enter the first number:\"))\n",
    "b=int(input(\"enter the  second number:\"))\n",
    "c=int(input(\"enter the  third number:\"))\n",
    "d=max(a,b,c)\n",
    "print(\"maximum of (\",a,b,c,\")\",\":\",d)"
   ]
  },
  {
   "cell_type": "markdown",
   "id": "e6103e42-b233-44ef-b171-05524aa92786",
   "metadata": {},
   "source": [
    "Assingment 5.2: WAP to add all numbers divisible by 7 and 9 from 1 to n and n is given by the user."
   ]
  },
  {
   "cell_type": "code",
   "execution_count": 41,
   "id": "a9008cfa-38f1-4c5b-ac9f-b121cc297af1",
   "metadata": {},
   "outputs": [
    {
     "name": "stdin",
     "output_type": "stream",
     "text": [
      "enter the number: 33\n"
     ]
    },
    {
     "name": "stdout",
     "output_type": "stream",
     "text": [
      "0\n"
     ]
    }
   ],
   "source": [
    "n=int(input(\"enter the number:\"))\n",
    "s=0\n",
    "for i in range(1,n+1):\n",
    "    if i%7==0 and i%9==0:\n",
    "        s+=i\n",
    "print(s)"
   ]
  },
  {
   "cell_type": "markdown",
   "id": "b70363c4-dfe1-4823-8d37-584240711a2d",
   "metadata": {},
   "source": [
    "Assingment 5.3: WAP to add all prime numbers from 1 to n and n is given by the user."
   ]
  },
  {
   "cell_type": "code",
   "execution_count": 48,
   "id": "f1454000-2096-446d-a292-d52309e1f474",
   "metadata": {},
   "outputs": [
    {
     "name": "stdin",
     "output_type": "stream",
     "text": [
      "enter the number: 20\n"
     ]
    },
    {
     "name": "stdout",
     "output_type": "stream",
     "text": [
      "77\n"
     ]
    }
   ],
   "source": [
    "n=int(input(\"enter the number:\"))\n",
    "s=0\n",
    "for i in range(2,n+1):\n",
    "    prime=True\n",
    "    for j in range(2,(i//2)+1):\n",
    "        if i%j==0:\n",
    "            prime=False\n",
    "            break          \n",
    "        \n",
    "    if prime:\n",
    "        s+=i\n",
    "        \n",
    "print(s)"
   ]
  },
  {
   "cell_type": "markdown",
   "id": "bf3d0239-b486-440e-90ec-a82569d4f877",
   "metadata": {},
   "source": [
    "Assingment 6.1: WAP using function that add all odd numbers from 1 to n, n is given by the user."
   ]
  },
  {
   "cell_type": "code",
   "execution_count": 51,
   "id": "0d744226-4449-4d1d-99cd-4bebe74d822d",
   "metadata": {},
   "outputs": [
    {
     "name": "stdin",
     "output_type": "stream",
     "text": [
      "enter the number: 22\n"
     ]
    },
    {
     "name": "stdout",
     "output_type": "stream",
     "text": [
      "121\n"
     ]
    }
   ],
   "source": [
    " \n",
    "def oddnosum(n):\n",
    "    s=0\n",
    "    for i in range(1,n+1):\n",
    "        if i%2!=0:\n",
    "            s+=i\n",
    "    return s\n",
    "n=int(input(\"enter the number:\"))\n",
    "print(oddnosum(n))"
   ]
  },
  {
   "cell_type": "code",
   "execution_count": null,
   "id": "664c7fc3-646e-4df2-8594-76582f138d14",
   "metadata": {},
   "outputs": [],
   "source": []
  }
 ],
 "metadata": {
  "kernelspec": {
   "display_name": "Python [conda env:base] *",
   "language": "python",
   "name": "conda-base-py"
  },
  "language_info": {
   "codemirror_mode": {
    "name": "ipython",
    "version": 3
   },
   "file_extension": ".py",
   "mimetype": "text/x-python",
   "name": "python",
   "nbconvert_exporter": "python",
   "pygments_lexer": "ipython3",
   "version": "3.12.7"
  }
 },
 "nbformat": 4,
 "nbformat_minor": 5
}
