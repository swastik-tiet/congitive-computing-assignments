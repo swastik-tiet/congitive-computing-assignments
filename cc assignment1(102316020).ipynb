{
 "cells": [
  {
   "cell_type": "code",
   "execution_count": 2,
   "id": "50870ad8-423b-4513-be11-b1299fcc9571",
   "metadata": {},
   "outputs": [
    {
     "name": "stdout",
     "output_type": "stream",
     "text": [
      "swastik\n",
      "swastik\n",
      "swastik\n"
     ]
    }
   ],
   "source": [
    "print(\"swastik\")\n",
    "print(\"swastik\")\n",
    "print(\"swastik\")"
   ]
  },
  {
   "cell_type": "raw",
   "id": "3b5a5898-143f-40b1-a043-cbd7ccce4987",
   "metadata": {},
   "source": []
  },
  {
   "cell_type": "code",
   "execution_count": 3,
   "id": "a14bdde8-c846-499c-b37b-f6d578fc7c33",
   "metadata": {},
   "outputs": [
    {
     "name": "stdout",
     "output_type": "stream",
     "text": [
      "10 + 20 + 30 --> 60\n"
     ]
    }
   ],
   "source": [
    "a=10\n",
    "b=20\n",
    "c=30\n",
    "print(a,\"+\",b,\"+\",c,\"-->\",a+b+c)"
   ]
  },
  {
   "cell_type": "code",
   "execution_count": 5,
   "id": "42e5c35c-cc3d-47d8-af20-e1307361dde4",
   "metadata": {},
   "outputs": [
    {
     "name": "stdout",
     "output_type": "stream",
     "text": [
      "jai + shree + ram --> jaishreeram\n"
     ]
    }
   ],
   "source": [
    "a=\"jai\"\n",
    "b=\"shree\"\n",
    "c=\"ram\"\n",
    "print(a,\"+\",b,\"+\",c,\"-->\",a+b+c)\n"
   ]
  },
  {
   "cell_type": "code",
   "execution_count": 7,
   "id": "4fa9fda1-2375-4814-b3a6-4f48b909013f",
   "metadata": {},
   "outputs": [
    {
     "name": "stdout",
     "output_type": "stream",
     "text": [
      "table of 7:\n",
      "\n",
      "7 * 1 = 7\n",
      "7 * 2 = 14\n",
      "7 * 3 = 21\n",
      "7 * 4 = 28\n",
      "7 * 5 = 35\n",
      "7 * 6 = 42\n",
      "7 * 7 = 49\n",
      "7 * 8 = 56\n",
      "7 * 9 = 63\n",
      "7 * 10 = 70\n",
      "table of 9:\n",
      "\n",
      "9 * 1 = 9\n",
      "9 * 2 = 18\n",
      "9 * 3 = 27\n",
      "9 * 4 = 36\n",
      "9 * 5 = 45\n",
      "9 * 6 = 54\n",
      "9 * 7 = 63\n",
      "9 * 8 = 72\n",
      "9 * 9 = 81\n",
      "9 * 10 = 90\n"
     ]
    }
   ],
   "source": [
    "print(\"table of 7:\\n\")\n",
    "for i in range(1,11):\n",
    "    print(7,\"*\",i,\"=\",i*7)\n",
    "print(\"table of 9:\\n\")\n",
    "for i in range(1,11):\n",
    "    print(9,\"*\",i,\"=\",i*9)\n",
    "    "
   ]
  },
  {
   "cell_type": "code",
   "execution_count": 8,
   "id": "ed8f9aac-7595-4cf9-ae39-509c16755258",
   "metadata": {},
   "outputs": [
    {
     "name": "stdin",
     "output_type": "stream",
     "text": [
      "enter the number: 15\n"
     ]
    },
    {
     "name": "stdout",
     "output_type": "stream",
     "text": [
      "15 * 1 = 15\n",
      "15 * 2 = 30\n",
      "15 * 3 = 45\n",
      "15 * 4 = 60\n",
      "15 * 5 = 75\n",
      "15 * 6 = 90\n",
      "15 * 7 = 105\n",
      "15 * 8 = 120\n",
      "15 * 9 = 135\n",
      "15 * 10 = 150\n"
     ]
    }
   ],
   "source": [
    "n=int(input(\"enter the number:\"))\n",
    "for i in range(1,11):\n",
    "    print(n,\"*\",i,\"=\",i*n)"
   ]
  },
  {
   "cell_type": "code",
   "execution_count": 9,
   "id": "259ba328-98dd-4e1a-94af-96966516ef9f",
   "metadata": {},
   "outputs": [
    {
     "name": "stdin",
     "output_type": "stream",
     "text": [
      "enter the number: 5\n"
     ]
    },
    {
     "name": "stdout",
     "output_type": "stream",
     "text": [
      "15\n"
     ]
    }
   ],
   "source": [
    "n=int(input(\"enter the number:\"))\n",
    "s=0\n",
    "for i in range(1,n+1):\n",
    "    s=s+i\n",
    "print(s)"
   ]
  },
  {
   "cell_type": "code",
   "execution_count": 13,
   "id": "52ca0334-e7a5-4bed-b4d3-216174459d1a",
   "metadata": {},
   "outputs": [
    {
     "name": "stdin",
     "output_type": "stream",
     "text": [
      "enter the first number: 33\n",
      "enter the  second number: 44\n",
      "enter the  third number: 55\n"
     ]
    },
    {
     "name": "stdout",
     "output_type": "stream",
     "text": [
      "maximum of ( 33 44 55 ) : 55\n"
     ]
    }
   ],
   "source": [
    "a=int(input(\"enter the first number:\"))\n",
    "b=int(input(\"enter the  second number:\"))\n",
    "c=int(input(\"enter the  third number:\"))\n",
    "d=max(a,b,c)\n",
    "print(\"maximum of (\",a,b,c,\")\",\":\",d)"
   ]
  },
  {
   "cell_type": "code",
   "execution_count": 17,
   "id": "d38f109d-20a3-4190-86eb-4c2f61418c73",
   "metadata": {},
   "outputs": [
    {
     "name": "stdin",
     "output_type": "stream",
     "text": [
      "enter the number: 63\n"
     ]
    },
    {
     "name": "stdout",
     "output_type": "stream",
     "text": [
      "63\n"
     ]
    }
   ],
   "source": [
    "n=int(input(\"enter the number:\"))\n",
    "s=0\n",
    "for i in range(1,n+1):\n",
    "    if i%7==0 and i%9==0:\n",
    "        s+=i\n",
    "print(s)\n"
   ]
  },
  {
   "cell_type": "code",
   "execution_count": 26,
   "id": "53180152-2892-44ff-a08f-dcfba8817dc0",
   "metadata": {},
   "outputs": [
    {
     "name": "stdin",
     "output_type": "stream",
     "text": [
      "enter the number: 20\n"
     ]
    },
    {
     "name": "stdout",
     "output_type": "stream",
     "text": [
      "77\n"
     ]
    }
   ],
   "source": [
    "n=int(input(\"enter the number:\"))\n",
    "s=0\n",
    "for i in range(2,n+1):\n",
    "    prime=True\n",
    "    for j in range(2,(i//2)+1):\n",
    "        if i%j==0:\n",
    "            prime=False\n",
    "            break          \n",
    "        \n",
    "    if prime:\n",
    "        s+=i\n",
    "        \n",
    "print(s)"
   ]
  },
  {
   "cell_type": "code",
   "execution_count": 28,
   "id": "596c5db5-cb50-41c4-b87c-1ce0ca096d01",
   "metadata": {},
   "outputs": [
    {
     "name": "stdin",
     "output_type": "stream",
     "text": [
      "enter the number: 5\n"
     ]
    },
    {
     "name": "stdout",
     "output_type": "stream",
     "text": [
      "9\n"
     ]
    }
   ],
   "source": [
    " \n",
    "def oddnosum(n):\n",
    "    s=0\n",
    "    for i in range(1,n+1):\n",
    "        if i%2!=0:\n",
    "            s+=i\n",
    "    return s\n",
    "n=int(input(\"enter the number:\"))\n",
    "print(oddnosum(n))\n",
    "\n"
   ]
  },
  {
   "cell_type": "code",
   "execution_count": 31,
   "id": "f5199db3-ca45-4d3f-bf09-bca1b71cc7c1",
   "metadata": {},
   "outputs": [
    {
     "name": "stdin",
     "output_type": "stream",
     "text": [
      "enter the number: 20\n"
     ]
    },
    {
     "name": "stdout",
     "output_type": "stream",
     "text": [
      "77\n"
     ]
    }
   ],
   "source": [
    "def primesum(n):\n",
    "    \n",
    "   s=0\n",
    "   for i in range(2,n+1):\n",
    "       \n",
    "       isprime=True\n",
    "       for j in range( 2,(i//2)+1):\n",
    "           if i%j==0:\n",
    "               isprime=False\n",
    "               break\n",
    "       if isprime:\n",
    "           \n",
    "           s+=i\n",
    "   return s\n",
    "n=int(input(\"enter the number:\"))\n",
    "print(primesum(n))\n",
    "\n",
    "    \n"
   ]
  },
  {
   "cell_type": "code",
   "execution_count": null,
   "id": "54fcb4de-3faa-4804-9f97-838d830e32d7",
   "metadata": {},
   "outputs": [],
   "source": []
  },
  {
   "cell_type": "code",
   "execution_count": null,
   "id": "7d88deeb-ffb7-49e1-8c3c-2b0c92c6ae1a",
   "metadata": {},
   "outputs": [],
   "source": []
  },
  {
   "cell_type": "code",
   "execution_count": null,
   "id": "2481dcea-6494-4a34-a713-6518e6d66bb5",
   "metadata": {},
   "outputs": [],
   "source": []
  },
  {
   "cell_type": "code",
   "execution_count": null,
   "id": "d2a56b19-bad3-4e6c-a40f-fc837eff2db7",
   "metadata": {},
   "outputs": [],
   "source": []
  },
  {
   "cell_type": "code",
   "execution_count": null,
   "id": "c94521d4-d949-4021-9399-f065bd96a034",
   "metadata": {},
   "outputs": [],
   "source": []
  },
  {
   "cell_type": "code",
   "execution_count": null,
   "id": "9296693e-3a9e-4c32-ae0f-ae9b7c5496eb",
   "metadata": {},
   "outputs": [],
   "source": []
  },
  {
   "cell_type": "code",
   "execution_count": null,
   "id": "c1d0daee-a244-4542-9edf-f88919702154",
   "metadata": {},
   "outputs": [],
   "source": []
  },
  {
   "cell_type": "code",
   "execution_count": null,
   "id": "ebbd822d-99ef-48b0-b4bc-7e71de4b6bc4",
   "metadata": {},
   "outputs": [],
   "source": []
  },
  {
   "cell_type": "code",
   "execution_count": null,
   "id": "7b04d559-b2a8-4555-9cd4-e58f81005602",
   "metadata": {},
   "outputs": [],
   "source": []
  }
 ],
 "metadata": {
  "kernelspec": {
   "display_name": "Python 3 (ipykernel)",
   "language": "python",
   "name": "python3"
  },
  "language_info": {
   "codemirror_mode": {
    "name": "ipython",
    "version": 3
   },
   "file_extension": ".py",
   "mimetype": "text/x-python",
   "name": "python",
   "nbconvert_exporter": "python",
   "pygments_lexer": "ipython3",
   "version": "3.12.7"
  }
 },
 "nbformat": 4,
 "nbformat_minor": 5
}
