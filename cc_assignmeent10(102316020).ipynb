{
 "cells": [
  {
   "cell_type": "markdown",
   "id": "1d2be032-dd61-4326-ae18-1688a8b480c2",
   "metadata": {},
   "source": [
    "Q1. Write a unique paragraph (5-6 sentences) about your favorite topic (e.g., sports,\n",
    "technology, food, books, etc.).\n",
    "1. Convert text to lowercase and remove punctuaƟon using re.\n",
    "2. Tokenize the text into words and sentences.\n",
    "3. Split using split() and word_tokenize() and compare how Python split and NLTK’s\n",
    "word_tokenize() differ.\n",
    "4. Remove stopwords (using NLTK's stopwords list).\n",
    "5. Display word frequency distribuƟon (excluding stopwords).\n",
    "\n",
    "\n"
   ]
  },
  {
   "cell_type": "markdown",
   "id": "14a62e59-5eaa-48c9-858d-4f99336d2357",
   "metadata": {},
   "source": [
    "\n",
    "\n",
    "\n"
   ]
  },
  {
   "cell_type": "code",
   "execution_count": 10,
   "id": "6edb65af-d576-4a27-8eeb-ba2f3b6e11e3",
   "metadata": {},
   "outputs": [],
   "source": [
    "#write the unique paragrapgh\n",
    "text = \"\"\"Technology is evolving rapidly in today's world. From smartphones to artificial intelligence, it is changing how we live and work. \n",
    "I enjoy learning about new tech gadgets and their impact on society. Innovations in healthcare, education, and communication are truly inspiring. \n",
    "The future seems exciting with constant advancements in machine learning and robotics.\"\"\"\n"
   ]
  },
  {
   "cell_type": "code",
   "execution_count": 12,
   "id": "1c59075c-6366-418b-a575-55d89452e38a",
   "metadata": {},
   "outputs": [
    {
     "name": "stdout",
     "output_type": "stream",
     "text": [
      "Cleaned Text:\n",
      " technology is evolving rapidly in todays world from smartphones to artificial intelligence it is changing how we live and work \n",
      "i enjoy learning about new tech gadgets and their impact on society innovations in healthcare education and communication are truly inspiring \n",
      "the future seems exciting with constant advancements in machine learning and robotics\n"
     ]
    }
   ],
   "source": [
    "#2. Convert text to lowercase and remove punctuation\n",
    "import re\n",
    "\n",
    "text_lower = text.lower()\n",
    "text_clean = re.sub(r'[^\\w\\s]', '', text_lower)\n",
    "print(\"Cleaned Text:\\n\", text_clean)"
   ]
  },
  {
   "cell_type": "code",
   "execution_count": 14,
   "id": "df1e135b-0e0a-46f2-acb2-2f1ea4250b6d",
   "metadata": {},
   "outputs": [
    {
     "name": "stdout",
     "output_type": "stream",
     "text": [
      "\n",
      "Sentence Tokens:\n",
      " [\"Technology is evolving rapidly in today's world.\", 'From smartphones to artificial intelligence, it is changing how we live and work.', 'I enjoy learning about new tech gadgets and their impact on society.', 'Innovations in healthcare, education, and communication are truly inspiring.', 'The future seems exciting with constant advancements in machine learning and robotics.']\n",
      "\n",
      "Word Tokens (nltk):\n",
      " ['technology', 'is', 'evolving', 'rapidly', 'in', 'todays', 'world', 'from', 'smartphones', 'to', 'artificial', 'intelligence', 'it', 'is', 'changing', 'how', 'we', 'live', 'and', 'work', 'i', 'enjoy', 'learning', 'about', 'new', 'tech', 'gadgets', 'and', 'their', 'impact', 'on', 'society', 'innovations', 'in', 'healthcare', 'education', 'and', 'communication', 'are', 'truly', 'inspiring', 'the', 'future', 'seems', 'exciting', 'with', 'constant', 'advancements', 'in', 'machine', 'learning', 'and', 'robotics']\n",
      "\n",
      "Word Tokens (split):\n",
      " ['technology', 'is', 'evolving', 'rapidly', 'in', 'todays', 'world', 'from', 'smartphones', 'to', 'artificial', 'intelligence', 'it', 'is', 'changing', 'how', 'we', 'live', 'and', 'work', 'i', 'enjoy', 'learning', 'about', 'new', 'tech', 'gadgets', 'and', 'their', 'impact', 'on', 'society', 'innovations', 'in', 'healthcare', 'education', 'and', 'communication', 'are', 'truly', 'inspiring', 'the', 'future', 'seems', 'exciting', 'with', 'constant', 'advancements', 'in', 'machine', 'learning', 'and', 'robotics']\n"
     ]
    }
   ],
   "source": [
    "#tokenise into word and sentences\n",
    "from nltk.tokenize import word_tokenize, sent_tokenize\n",
    "\n",
    "# Sentence tokenization\n",
    "sent_tokens = sent_tokenize(text)\n",
    "print(\"\\nSentence Tokens:\\n\", sent_tokens)\n",
    "\n",
    "# Word tokenization using nltk\n",
    "word_tokens_nltk = word_tokenize(text_clean)\n",
    "print(\"\\nWord Tokens (nltk):\\n\", word_tokens_nltk)\n",
    "\n",
    "# Word tokenization using split\n",
    "word_tokens_split = text_clean.split()\n",
    "print(\"\\nWord Tokens (split):\\n\", word_tokens_split)\n"
   ]
  },
  {
   "cell_type": "code",
   "execution_count": 18,
   "id": "2551163c-f961-4ef1-90cb-4be90e16d4c5",
   "metadata": {},
   "outputs": [
    {
     "name": "stdout",
     "output_type": "stream",
     "text": [
      "\n",
      "Filtered Words (no stopwords):\n",
      " ['technology', 'evolving', 'rapidly', 'todays', 'world', 'smartphones', 'artificial', 'intelligence', 'changing', 'live', 'work', 'enjoy', 'learning', 'new', 'tech', 'gadgets', 'impact', 'society', 'innovations', 'healthcare', 'education', 'communication', 'truly', 'inspiring', 'future', 'seems', 'exciting', 'constant', 'advancements', 'machine', 'learning', 'robotics']\n"
     ]
    },
    {
     "name": "stderr",
     "output_type": "stream",
     "text": [
      "[nltk_data] Downloading package punkt to\n",
      "[nltk_data]     C:\\Users\\Swast\\AppData\\Roaming\\nltk_data...\n",
      "[nltk_data]   Package punkt is already up-to-date!\n",
      "[nltk_data] Downloading package stopwords to\n",
      "[nltk_data]     C:\\Users\\Swast\\AppData\\Roaming\\nltk_data...\n",
      "[nltk_data]   Package stopwords is already up-to-date!\n"
     ]
    }
   ],
   "source": [
    "#remove stopword\n",
    "from nltk.corpus import stopwords\n",
    "import nltk\n",
    "nltk.download('punkt')\n",
    "nltk.download('stopwords')\n",
    "\n",
    "stop_words = set(stopwords.words('english'))\n",
    "\n",
    "filtered_words = [word for word in word_tokens_nltk if word not in stop_words]\n",
    "print(\"\\nFiltered Words (no stopwords):\\n\", filtered_words)\n"
   ]
  },
  {
   "cell_type": "code",
   "execution_count": 24,
   "id": "eb760955-4b1c-480b-a215-a7c615a0f78a",
   "metadata": {},
   "outputs": [
    {
     "name": "stdout",
     "output_type": "stream",
     "text": [
      "\n",
      "Word Frequency Distribution:\n",
      "technology: 1\n",
      "evolving: 1\n",
      "rapidly: 1\n",
      "todays: 1\n",
      "world: 1\n",
      "smartphones: 1\n",
      "artificial: 1\n",
      "intelligence: 1\n",
      "changing: 1\n",
      "live: 1\n",
      "work: 1\n",
      "enjoy: 1\n",
      "learning: 2\n",
      "new: 1\n",
      "tech: 1\n",
      "gadgets: 1\n",
      "impact: 1\n",
      "society: 1\n",
      "innovations: 1\n",
      "healthcare: 1\n",
      "education: 1\n",
      "communication: 1\n",
      "truly: 1\n",
      "inspiring: 1\n",
      "future: 1\n",
      "seems: 1\n",
      "exciting: 1\n",
      "constant: 1\n",
      "advancements: 1\n",
      "machine: 1\n",
      "robotics: 1\n"
     ]
    }
   ],
   "source": [
    "#display the word frequency distribution\n",
    "from nltk import FreqDist\n",
    "\n",
    "freq_dist = FreqDist(filtered_words)\n",
    "print(\"\\nWord Frequency Distribution:\")\n",
    "for word, freq in freq_dist.items():\n",
    "    print(f\"{word}: {freq}\")\n"
   ]
  },
  {
   "cell_type": "markdown",
   "id": "31cd1a08-66a6-4ae4-a36f-e703dc147468",
   "metadata": {},
   "source": [
    "\n",
    "Q2. Using the same paragraph from Q1:\n",
    "1. Extract all words with only alphabets using re.findall()\n",
    "2. Remove stop words using NLTK’s stopword list\n",
    "3. Perform stemming with PorterStemmer\n",
    "4. Perform lemmanization with WordNetLemmanizer\n",
    "5. Compare the stemmed and lemmanized outputs and explain when you’d prefer one over\n",
    "the other."
   ]
  },
  {
   "cell_type": "code",
   "execution_count": 29,
   "id": "03d6dfe7-36f4-4647-b775-3f21bc0aae75",
   "metadata": {},
   "outputs": [],
   "source": [
    "text = \"\"\"Technology is evolving rapidly in today's world. From smartphones to artificial intelligence, it is changing how we live and work. \n",
    "I enjoy learning about new tech gadgets and their impact on society. Innovations in healthcare, education, and communication are truly inspiring. \n",
    "The future seems exciting with constant advancements in machine learning and robotics.\"\"\"\n"
   ]
  },
  {
   "cell_type": "code",
   "execution_count": 31,
   "id": "858e73e0-5847-40f4-aebb-b07df3b7778c",
   "metadata": {},
   "outputs": [
    {
     "name": "stdout",
     "output_type": "stream",
     "text": [
      "Alphabetic Words:\n",
      " ['Technology', 'is', 'evolving', 'rapidly', 'in', 'today', 's', 'world', 'From', 'smartphones', 'to', 'artificial', 'intelligence', 'it', 'is', 'changing', 'how', 'we', 'live', 'and', 'work', 'I', 'enjoy', 'learning', 'about', 'new', 'tech', 'gadgets', 'and', 'their', 'impact', 'on', 'society', 'Innovations', 'in', 'healthcare', 'education', 'and', 'communication', 'are', 'truly', 'inspiring', 'The', 'future', 'seems', 'exciting', 'with', 'constant', 'advancements', 'in', 'machine', 'learning', 'and', 'robotics']\n"
     ]
    }
   ],
   "source": [
    "#1. Extract all words with only alphabets using re.findall()\n",
    "import re\n",
    "\n",
    "words_alpha = re.findall(r'\\b[a-zA-Z]+\\b', text)\n",
    "print(\"Alphabetic Words:\\n\", words_alpha)\n"
   ]
  },
  {
   "cell_type": "code",
   "execution_count": 33,
   "id": "3b2e9cf4-efd2-4243-99fa-d400c96cb66b",
   "metadata": {},
   "outputs": [
    {
     "name": "stdout",
     "output_type": "stream",
     "text": [
      "\n",
      "Words without Stopwords:\n",
      " ['Technology', 'evolving', 'rapidly', 'today', 'world', 'smartphones', 'artificial', 'intelligence', 'changing', 'live', 'work', 'enjoy', 'learning', 'new', 'tech', 'gadgets', 'impact', 'society', 'Innovations', 'healthcare', 'education', 'communication', 'truly', 'inspiring', 'future', 'seems', 'exciting', 'constant', 'advancements', 'machine', 'learning', 'robotics']\n"
     ]
    },
    {
     "name": "stderr",
     "output_type": "stream",
     "text": [
      "[nltk_data] Downloading package stopwords to\n",
      "[nltk_data]     C:\\Users\\Swast\\AppData\\Roaming\\nltk_data...\n",
      "[nltk_data]   Package stopwords is already up-to-date!\n"
     ]
    }
   ],
   "source": [
    "#remove the stopword using nltk stopword list\n",
    "from nltk.corpus import stopwords\n",
    "import nltk\n",
    "nltk.download('stopwords')\n",
    "\n",
    "stop_words = set(stopwords.words('english'))\n",
    "filtered_alpha = [word for word in words_alpha if word.lower() not in stop_words]\n",
    "print(\"\\nWords without Stopwords:\\n\", filtered_alpha)\n"
   ]
  },
  {
   "cell_type": "code",
   "execution_count": 35,
   "id": "c86f33d6-b648-40f9-8562-0e60e6015c26",
   "metadata": {},
   "outputs": [
    {
     "name": "stderr",
     "output_type": "stream",
     "text": [
      "[nltk_data] Downloading package wordnet to\n",
      "[nltk_data]     C:\\Users\\Swast\\AppData\\Roaming\\nltk_data...\n",
      "[nltk_data]   Package wordnet is already up-to-date!\n",
      "[nltk_data] Downloading package omw-1.4 to\n",
      "[nltk_data]     C:\\Users\\Swast\\AppData\\Roaming\\nltk_data...\n"
     ]
    },
    {
     "name": "stdout",
     "output_type": "stream",
     "text": [
      "\n",
      "Lemmatized Words:\n",
      " ['technology', 'evolving', 'rapidly', 'today', 'world', 'smartphones', 'artificial', 'intelligence', 'changing', 'live', 'work', 'enjoy', 'learning', 'new', 'tech', 'gadget', 'impact', 'society', 'innovation', 'healthcare', 'education', 'communication', 'truly', 'inspiring', 'future', 'seems', 'exciting', 'constant', 'advancement', 'machine', 'learning', 'robotics']\n"
     ]
    }
   ],
   "source": [
    "#Perform stemming using PorterStemmer\n",
    "from nltk.stem import WordNetLemmatizer\n",
    "nltk.download('wordnet')\n",
    "nltk.download('omw-1.4')\n",
    "\n",
    "lemmatizer = WordNetLemmatizer()\n",
    "lemmatized_words = [lemmatizer.lemmatize(word.lower()) for word in filtered_alpha]\n",
    "print(\"\\nLemmatized Words:\\n\", lemmatized_words)\n"
   ]
  },
  {
   "cell_type": "code",
   "execution_count": 41,
   "id": "609f0300-f9a1-42bd-a65e-2b00e74c00f5",
   "metadata": {},
   "outputs": [
    {
     "name": "stdout",
     "output_type": "stream",
     "text": [
      "\n",
      "Comparison of Stemmed vs Lemmatized Words:\n",
      "Stem: technolog → Lemma: technology\n",
      "Stem: evolv → Lemma: evolving\n",
      "Stem: rapidli → Lemma: rapidly\n",
      "Stem: today → Lemma: today\n",
      "Stem: world → Lemma: world\n",
      "Stem: smartphon → Lemma: smartphones\n",
      "Stem: artifici → Lemma: artificial\n",
      "Stem: intellig → Lemma: intelligence\n",
      "Stem: chang → Lemma: changing\n",
      "Stem: live → Lemma: live\n",
      "Stem: work → Lemma: work\n",
      "Stem: enjoy → Lemma: enjoy\n",
      "Stem: learn → Lemma: learning\n",
      "Stem: new → Lemma: new\n",
      "Stem: tech → Lemma: tech\n",
      "Stem: gadget → Lemma: gadget\n",
      "Stem: impact → Lemma: impact\n",
      "Stem: societi → Lemma: society\n",
      "Stem: innov → Lemma: innovation\n",
      "Stem: healthcar → Lemma: healthcare\n",
      "Stem: educ → Lemma: education\n",
      "Stem: commun → Lemma: communication\n",
      "Stem: truli → Lemma: truly\n",
      "Stem: inspir → Lemma: inspiring\n",
      "Stem: futur → Lemma: future\n",
      "Stem: seem → Lemma: seems\n",
      "Stem: excit → Lemma: exciting\n",
      "Stem: constant → Lemma: constant\n",
      "Stem: advanc → Lemma: advancement\n",
      "Stem: machin → Lemma: machine\n",
      "Stem: learn → Lemma: learning\n",
      "Stem: robot → Lemma: robotics\n"
     ]
    }
   ],
   "source": [
    "#Compare Stemmed vs Lemmatized Output\n",
    "from nltk.stem import PorterStemmer\n",
    "from nltk.stem import WordNetLemmatizer\n",
    "\n",
    "ps = PorterStemmer()\n",
    "lemmatizer = WordNetLemmatizer()\n",
    "\n",
    "stemmed_words = [ps.stem(word) for word in filtered_alpha]\n",
    "lemmatized_words = [lemmatizer.lemmatize(word.lower()) for word in filtered_alpha]\n",
    "print(\"\\nComparison of Stemmed vs Lemmatized Words:\")\n",
    "for s, l in zip(stemmed_words, lemmatized_words):\n",
    "    print(f\"Stem: {s} → Lemma: {l}\")\n",
    "\n"
   ]
  },
  {
   "cell_type": "markdown",
   "id": "0b50a8eb-7476-4300-ac72-b8658e65133b",
   "metadata": {},
   "source": [
    "Q3. Choose 3 short texts of your own (e.g., different news headlines, product reviews).\n",
    "1. Use CountVectorizer to generate the Bag of Words representaƟon.\n",
    "2. Use TfidfVectorizer to compute TF-IDF scores.\n",
    "3. Print and interpret the top 3 keywords from each text using TF-IDF."
   ]
  },
  {
   "cell_type": "code",
   "execution_count": 46,
   "id": "06a82047-7857-4e81-8142-a3bcce788d88",
   "metadata": {},
   "outputs": [],
   "source": [
    "#short text's\n",
    "texts = [\n",
    "    \"The new iPhone has an amazing camera and sleek design.\",\n",
    "    \"Samsung's latest phone has a powerful battery life.\",\n",
    "    \"Google Pixel excels in AI-powered photography and performance.\"\n",
    "]\n"
   ]
  },
  {
   "cell_type": "code",
   "execution_count": 48,
   "id": "1b67b139-7c1f-44bb-ac05-3d4824c60cda",
   "metadata": {},
   "outputs": [
    {
     "name": "stdout",
     "output_type": "stream",
     "text": [
      "Vocabulary:\n",
      " {'the': 23, 'new': 14, 'iphone': 11, 'has': 9, 'an': 2, 'amazing': 1, 'camera': 5, 'and': 3, 'sleek': 22, 'design': 6, 'samsung': 21, 'latest': 12, 'phone': 16, 'powerful': 20, 'battery': 4, 'life': 13, 'google': 8, 'pixel': 18, 'excels': 7, 'in': 10, 'ai': 0, 'powered': 19, 'photography': 17, 'performance': 15}\n",
      "\n",
      "Bag of Words:\n",
      " [[0 1 1 1 0 1 1 0 0 1 0 1 0 0 1 0 0 0 0 0 0 0 1 1]\n",
      " [0 0 0 0 1 0 0 0 0 1 0 0 1 1 0 0 1 0 0 0 1 1 0 0]\n",
      " [1 0 0 1 0 0 0 1 1 0 1 0 0 0 0 1 0 1 1 1 0 0 0 0]]\n"
     ]
    }
   ],
   "source": [
    "#countvectorizer\n",
    "from sklearn.feature_extraction.text import CountVectorizer\n",
    "\n",
    "cv = CountVectorizer()\n",
    "X = cv.fit_transform(texts)\n",
    "print(\"Vocabulary:\\n\", cv.vocabulary_)\n",
    "print(\"\\nBag of Words:\\n\", X.toarray())\n"
   ]
  },
  {
   "cell_type": "code",
   "execution_count": 50,
   "id": "909ffb6f-23d8-4ca2-a476-7763a2c16658",
   "metadata": {},
   "outputs": [
    {
     "name": "stdout",
     "output_type": "stream",
     "text": [
      "\n",
      "TF-IDF Matrix:\n",
      " [[0.         0.33046705 0.33046705 0.25132871 0.         0.33046705\n",
      "  0.33046705 0.         0.         0.25132871 0.         0.33046705\n",
      "  0.         0.         0.33046705 0.         0.         0.\n",
      "  0.         0.         0.         0.         0.33046705 0.33046705]\n",
      " [0.         0.         0.         0.         0.38988801 0.\n",
      "  0.         0.         0.         0.29651988 0.         0.\n",
      "  0.38988801 0.38988801 0.         0.         0.38988801 0.\n",
      "  0.         0.         0.38988801 0.38988801 0.         0.        ]\n",
      " [0.34142622 0.         0.         0.25966344 0.         0.\n",
      "  0.         0.34142622 0.34142622 0.         0.34142622 0.\n",
      "  0.         0.         0.         0.34142622 0.         0.34142622\n",
      "  0.34142622 0.34142622 0.         0.         0.         0.        ]]\n"
     ]
    }
   ],
   "source": [
    "#tf-df vectorizer\n",
    "from sklearn.feature_extraction.text import TfidfVectorizer\n",
    "\n",
    "tfidf = TfidfVectorizer()\n",
    "X_tfidf = tfidf.fit_transform(texts)\n",
    "\n",
    "print(\"\\nTF-IDF Matrix:\\n\", X_tfidf.toarray())\n"
   ]
  },
  {
   "cell_type": "code",
   "execution_count": 52,
   "id": "6eb86e48-9df0-4a5a-a13b-f182c7dcb476",
   "metadata": {},
   "outputs": [
    {
     "name": "stdout",
     "output_type": "stream",
     "text": [
      "\n",
      "Text 1 Top 3 Keywords:\n",
      "the: 0.3305\n",
      "new: 0.3305\n",
      "amazing: 0.3305\n",
      "\n",
      "Text 2 Top 3 Keywords:\n",
      "samsung: 0.3899\n",
      "powerful: 0.3899\n",
      "phone: 0.3899\n",
      "\n",
      "Text 3 Top 3 Keywords:\n",
      "ai: 0.3414\n",
      "google: 0.3414\n",
      "powered: 0.3414\n"
     ]
    }
   ],
   "source": [
    "#Top 3 keywords per text using TF-IDF\n",
    "import numpy as np\n",
    "\n",
    "feature_names = tfidf.get_feature_names_out()\n",
    "\n",
    "for i, row in enumerate(X_tfidf.toarray()):\n",
    "    print(f\"\\nText {i+1} Top 3 Keywords:\")\n",
    "    top_indices = np.argsort(row)[::-1][:3]\n",
    "    for idx in top_indices:\n",
    "        print(f\"{feature_names[idx]}: {row[idx]:.4f}\")\n"
   ]
  },
  {
   "cell_type": "markdown",
   "id": "1dbcba6a-9801-4c3e-8495-1229b4e67cee",
   "metadata": {},
   "source": [
    "\n",
    "Q4. Write 2 short texts (4–6 lines each) describing two different technologies (e.g., AI vs\n",
    "Blockchain).\n",
    "1. Preprocess and tokenize both texts.\n",
    "2. Calculate:\n",
    "a. Jaccard Similarity using sets\n",
    "b. Cosine Similarity using TfidfVectorizer + cosine_similarity()\n",
    "\n",
    "c. Analyze which similarity metric gives beƩer insights in your case."
   ]
  },
  {
   "cell_type": "code",
   "execution_count": 55,
   "id": "52ef5fc2-7df7-4f43-9ae9-ac7180595917",
   "metadata": {},
   "outputs": [],
   "source": [
    "#2-tech descriptions\n",
    "text1 = \"\"\"Artificial Intelligence enables machines to think and learn. It is used in speech recognition and recommendation systems.\"\"\"\n",
    "text2 = \"\"\"Blockchain is a decentralized technology used to secure transactions. It ensures transparency and prevents tampering.\"\"\"\n"
   ]
  },
  {
   "cell_type": "code",
   "execution_count": 57,
   "id": "b1f8faca-caab-4749-9499-4cccaf304e86",
   "metadata": {},
   "outputs": [
    {
     "name": "stdout",
     "output_type": "stream",
     "text": [
      "Tokens 1: ['artificial', 'intelligence', 'enables', 'machines', 'think', 'learn', 'used', 'speech', 'recognition', 'recommendation', 'systems']\n",
      "Tokens 2: ['blockchain', 'decentralized', 'technology', 'used', 'secure', 'transactions', 'ensures', 'transparency', 'prevents', 'tampering']\n"
     ]
    },
    {
     "name": "stderr",
     "output_type": "stream",
     "text": [
      "[nltk_data] Downloading package punkt to\n",
      "[nltk_data]     C:\\Users\\Swast\\AppData\\Roaming\\nltk_data...\n",
      "[nltk_data]   Package punkt is already up-to-date!\n",
      "[nltk_data] Downloading package stopwords to\n",
      "[nltk_data]     C:\\Users\\Swast\\AppData\\Roaming\\nltk_data...\n",
      "[nltk_data]   Package stopwords is already up-to-date!\n"
     ]
    }
   ],
   "source": [
    "#preprocessing+tokenization\n",
    "import re\n",
    "from nltk.corpus import stopwords\n",
    "from nltk.tokenize import word_tokenize\n",
    "import nltk\n",
    "nltk.download('punkt')\n",
    "nltk.download('stopwords')\n",
    "\n",
    "stop_words = set(stopwords.words('english'))\n",
    "\n",
    "def preprocess(text):\n",
    "    text = re.sub(r'[^\\w\\s]', '', text.lower())\n",
    "    tokens = word_tokenize(text)\n",
    "    return [word for word in tokens if word not in stop_words]\n",
    "\n",
    "tokens1 = preprocess(text1)\n",
    "tokens2 = preprocess(text2)\n",
    "\n",
    "print(\"Tokens 1:\", tokens1)\n",
    "print(\"Tokens 2:\", tokens2)\n"
   ]
  },
  {
   "cell_type": "code",
   "execution_count": 59,
   "id": "6192f487-a781-427f-b966-a72c0e3c8a91",
   "metadata": {},
   "outputs": [
    {
     "name": "stdout",
     "output_type": "stream",
     "text": [
      "\n",
      "Jaccard Similarity: 0.05\n"
     ]
    }
   ],
   "source": [
    "#2a.\n",
    "set1 = set(tokens1)\n",
    "set2 = set(tokens2)\n",
    "jaccard = len(set1 & set2) / len(set1 | set2)\n",
    "print(\"\\nJaccard Similarity:\", round(jaccard, 3))\n"
   ]
  },
  {
   "cell_type": "code",
   "execution_count": 61,
   "id": "dfadbedd-8ebf-48a7-b47e-43b2ad595839",
   "metadata": {},
   "outputs": [
    {
     "name": "stdout",
     "output_type": "stream",
     "text": [
      "Cosine Similarity: 0.231\n"
     ]
    }
   ],
   "source": [
    "#2b\n",
    "from sklearn.metrics.pairwise import cosine_similarity\n",
    "\n",
    "tfidf = TfidfVectorizer()\n",
    "tfidf_matrix = tfidf.fit_transform([text1, text2])\n",
    "cos_sim = cosine_similarity(tfidf_matrix[0:1], tfidf_matrix[1:2])[0][0]\n",
    "print(\"Cosine Similarity:\", round(cos_sim, 3))\n",
    "\n"
   ]
  },
  {
   "cell_type": "markdown",
   "id": "5b7028ab-9f28-425c-a92c-1403573db03d",
   "metadata": {},
   "source": [
    "Q5. Write a short review for a product or service.\n",
    "1. Use TextBlob or VADER to find polarity & subjecƟvity for each review.\n",
    "2. Classify reviews into PosiƟve / NegaƟve / Neutral.\n",
    "3. Create a word cloud using the wordcloud library for all posiƟve reviews."
   ]
  },
  {
   "cell_type": "code",
   "execution_count": 64,
   "id": "277ae565-4742-41dd-97be-680014f0334b",
   "metadata": {},
   "outputs": [],
   "source": [
    "reviews = [\n",
    "    \"I love the features of this product. It's amazing!\",\n",
    "    \"The service was terrible and very slow.\",\n",
    "    \"Okay experience, not great but not bad either.\",\n",
    "    \"Fantastic performance and excellent support!\",\n",
    "    \"Worst purchase ever made. Not recommended.\"\n",
    "]\n"
   ]
  },
  {
   "cell_type": "code",
   "execution_count": 68,
   "id": "ec340123-5ae1-4856-acaf-23be3a77c2a0",
   "metadata": {},
   "outputs": [
    {
     "name": "stdout",
     "output_type": "stream",
     "text": [
      "Collecting textblob\n",
      "  Downloading textblob-0.19.0-py3-none-any.whl.metadata (4.4 kB)\n",
      "Requirement already satisfied: nltk>=3.9 in c:\\users\\swast\\anaconda3\\lib\\site-packages (from textblob) (3.9.1)\n",
      "Requirement already satisfied: click in c:\\users\\swast\\anaconda3\\lib\\site-packages (from nltk>=3.9->textblob) (8.1.7)\n",
      "Requirement already satisfied: joblib in c:\\users\\swast\\anaconda3\\lib\\site-packages (from nltk>=3.9->textblob) (1.4.2)\n",
      "Requirement already satisfied: regex>=2021.8.3 in c:\\users\\swast\\anaconda3\\lib\\site-packages (from nltk>=3.9->textblob) (2024.9.11)\n",
      "Requirement already satisfied: tqdm in c:\\users\\swast\\anaconda3\\lib\\site-packages (from nltk>=3.9->textblob) (4.66.5)\n",
      "Requirement already satisfied: colorama in c:\\users\\swast\\anaconda3\\lib\\site-packages (from click->nltk>=3.9->textblob) (0.4.6)\n",
      "Downloading textblob-0.19.0-py3-none-any.whl (624 kB)\n",
      "   ---------------------------------------- 0.0/624.3 kB ? eta -:--:--\n",
      "   ---------------------------------------- 0.0/624.3 kB ? eta -:--:--\n",
      "   ---------------------------------------- 0.0/624.3 kB ? eta -:--:--\n",
      "   ---------------- ----------------------- 262.1/624.3 kB ? eta -:--:--\n",
      "   ------------------------------- ------ 524.3/624.3 kB 932.9 kB/s eta 0:00:01\n",
      "   -------------------------------------- 624.3/624.3 kB 858.1 kB/s eta 0:00:00\n",
      "Installing collected packages: textblob\n",
      "Successfully installed textblob-0.19.0\n"
     ]
    }
   ],
   "source": [
    "!pip install textblob\n"
   ]
  },
  {
   "cell_type": "code",
   "execution_count": 70,
   "id": "3627a33d-0e6d-4504-ba53-2c0b03296f62",
   "metadata": {},
   "outputs": [
    {
     "name": "stderr",
     "output_type": "stream",
     "text": [
      "[nltk_data] Downloading package punkt to\n",
      "[nltk_data]     C:\\Users\\Swast\\AppData\\Roaming\\nltk_data...\n",
      "[nltk_data]   Package punkt is already up-to-date!\n"
     ]
    },
    {
     "data": {
      "text/plain": [
       "True"
      ]
     },
     "execution_count": 70,
     "metadata": {},
     "output_type": "execute_result"
    }
   ],
   "source": [
    "import nltk\n",
    "nltk.download('punkt')\n"
   ]
  },
  {
   "cell_type": "code",
   "execution_count": 74,
   "id": "4ab4d13d-c290-4aa6-975a-031f13dca3c6",
   "metadata": {},
   "outputs": [
    {
     "name": "stdout",
     "output_type": "stream",
     "text": [
      "Collecting wordcloud\n",
      "  Downloading wordcloud-1.9.4-cp312-cp312-win_amd64.whl.metadata (3.5 kB)\n",
      "Requirement already satisfied: numpy>=1.6.1 in c:\\users\\swast\\anaconda3\\lib\\site-packages (from wordcloud) (1.26.4)\n",
      "Requirement already satisfied: pillow in c:\\users\\swast\\anaconda3\\lib\\site-packages (from wordcloud) (10.4.0)\n",
      "Requirement already satisfied: matplotlib in c:\\users\\swast\\anaconda3\\lib\\site-packages (from wordcloud) (3.9.2)\n",
      "Requirement already satisfied: contourpy>=1.0.1 in c:\\users\\swast\\anaconda3\\lib\\site-packages (from matplotlib->wordcloud) (1.2.0)\n",
      "Requirement already satisfied: cycler>=0.10 in c:\\users\\swast\\anaconda3\\lib\\site-packages (from matplotlib->wordcloud) (0.11.0)\n",
      "Requirement already satisfied: fonttools>=4.22.0 in c:\\users\\swast\\anaconda3\\lib\\site-packages (from matplotlib->wordcloud) (4.51.0)\n",
      "Requirement already satisfied: kiwisolver>=1.3.1 in c:\\users\\swast\\anaconda3\\lib\\site-packages (from matplotlib->wordcloud) (1.4.4)\n",
      "Requirement already satisfied: packaging>=20.0 in c:\\users\\swast\\anaconda3\\lib\\site-packages (from matplotlib->wordcloud) (24.1)\n",
      "Requirement already satisfied: pyparsing>=2.3.1 in c:\\users\\swast\\anaconda3\\lib\\site-packages (from matplotlib->wordcloud) (3.1.2)\n",
      "Requirement already satisfied: python-dateutil>=2.7 in c:\\users\\swast\\anaconda3\\lib\\site-packages (from matplotlib->wordcloud) (2.9.0.post0)\n",
      "Requirement already satisfied: six>=1.5 in c:\\users\\swast\\anaconda3\\lib\\site-packages (from python-dateutil>=2.7->matplotlib->wordcloud) (1.16.0)\n",
      "Downloading wordcloud-1.9.4-cp312-cp312-win_amd64.whl (301 kB)\n",
      "Installing collected packages: wordcloud\n",
      "Successfully installed wordcloud-1.9.4\n"
     ]
    }
   ],
   "source": [
    "!pip install wordcloud"
   ]
  },
  {
   "cell_type": "code",
   "execution_count": 76,
   "id": "b5e52d0f-36fa-4561-a7aa-eccac78279de",
   "metadata": {},
   "outputs": [
    {
     "name": "stdout",
     "output_type": "stream",
     "text": [
      "\n",
      "Review: I love the features of this product. It's amazing!\n",
      "→ Polarity: 0.62, Subjectivity: 0.75, Sentiment: Positive\n",
      "\n",
      "Review: The service was terrible and very slow.\n",
      "→ Polarity: -0.70, Subjectivity: 0.76, Sentiment: Negative\n",
      "\n",
      "Review: Okay experience, not great but not bad either.\n",
      "→ Polarity: 0.15, Subjectivity: 0.64, Sentiment: Positive\n",
      "\n",
      "Review: Fantastic performance and excellent support!\n",
      "→ Polarity: 0.70, Subjectivity: 0.95, Sentiment: Positive\n",
      "\n",
      "Review: Worst purchase ever made. Not recommended.\n",
      "→ Polarity: -1.00, Subjectivity: 1.00, Sentiment: Negative\n"
     ]
    }
   ],
   "source": [
    "from textblob import TextBlob\n",
    "from wordcloud import WordCloud\n",
    "import matplotlib.pyplot as plt\n",
    "\n",
    "sentiments = []\n",
    "\n",
    "for review in reviews:\n",
    "    blob = TextBlob(review)\n",
    "    polarity = blob.sentiment.polarity\n",
    "    subjectivity = blob.sentiment.subjectivity\n",
    "    sentiments.append((review, polarity, subjectivity))\n",
    "\n",
    "for r, p, s in sentiments:\n",
    "    label = \"Positive\" if p > 0 else \"Negative\" if p < 0 else \"Neutral\"\n",
    "    print(f\"\\nReview: {r}\\n→ Polarity: {p:.2f}, Subjectivity: {s:.2f}, Sentiment: {label}\")\n"
   ]
  },
  {
   "cell_type": "code",
   "execution_count": 98,
   "id": "c7ea5f72-b1da-4dda-a7c7-43076d57eefa",
   "metadata": {},
   "outputs": [
    {
     "data": {
      "image/png": "[encoded data removed]",
      "text/plain": [
       "<Figure size 640x480 with 1 Axes>"
      ]
     },
     "metadata": {},
     "output_type": "display_data"
    }
   ],
   "source": [
    "positive_reviews = \" \".join([r for r, p, _ in sentiments if p > 0])\n",
    "wordcloud = WordCloud(background_color=\"white\").generate(positive_reviews)\n",
    "\n",
    "plt.imshow(wordcloud, interpolation='bilinear')\n",
    "plt.axis(\"off\")\n",
    "plt.title(\"Positive Review Word Cloud\")\n",
    "plt.show()\n"
   ]
  },
  {
   "cell_type": "markdown",
   "id": "70faca9b-79c7-4bbd-968c-842e382934e8",
   "metadata": {},
   "source": [
    "Q6. Choose your own paragraph (~100 words) as training data.\n",
    "1. Tokenize text using Tokenizer() from keras.preprocessing.text\n",
    "2. Create input sequences and build a simple LSTM or Dense model\n",
    "3. Train the model and generate 2–3 new lines of text starting from any seed word you\n",
    "provide.\n",
    "\n",
    "\n"
   ]
  },
  {
   "cell_type": "code",
   "execution_count": 101,
   "id": "953a5f08-3424-48ca-a8ad-6024efce0aaf",
   "metadata": {},
   "outputs": [],
   "source": [
    "text = \"Machine learning is transforming industries. Artificial intelligence powers smart assistants. Robotics and automation are the future.\"\n"
   ]
  },
  {
   "cell_type": "code",
   "execution_count": 103,
   "id": "ca3c770a-39e9-4c6f-9043-750520677fe1",
   "metadata": {},
   "outputs": [
    {
     "name": "stdout",
     "output_type": "stream",
     "text": [
      "Requirement already satisfied: keras in c:\\users\\swast\\anaconda3\\lib\\site-packages (3.9.2)\n",
      "Requirement already satisfied: absl-py in c:\\users\\swast\\anaconda3\\lib\\site-packages (from keras) (2.2.2)\n",
      "Requirement already satisfied: numpy in c:\\users\\swast\\anaconda3\\lib\\site-packages (from keras) (1.26.4)\n",
      "Requirement already satisfied: rich in c:\\users\\swast\\anaconda3\\lib\\site-packages (from keras) (13.7.1)\n",
      "Requirement already satisfied: namex in c:\\users\\swast\\anaconda3\\lib\\site-packages (from keras) (0.0.9)\n",
      "Requirement already satisfied: h5py in c:\\users\\swast\\anaconda3\\lib\\site-packages (from keras) (3.11.0)\n",
      "Requirement already satisfied: optree in c:\\users\\swast\\anaconda3\\lib\\site-packages (from keras) (0.15.0)\n",
      "Requirement already satisfied: ml-dtypes in c:\\users\\swast\\anaconda3\\lib\\site-packages (from keras) (0.5.1)\n",
      "Requirement already satisfied: packaging in c:\\users\\swast\\anaconda3\\lib\\site-packages (from keras) (24.1)\n",
      "Requirement already satisfied: typing-extensions>=4.5.0 in c:\\users\\swast\\anaconda3\\lib\\site-packages (from optree->keras) (4.11.0)\n",
      "Requirement already satisfied: markdown-it-py>=2.2.0 in c:\\users\\swast\\anaconda3\\lib\\site-packages (from rich->keras) (2.2.0)\n",
      "Requirement already satisfied: pygments<3.0.0,>=2.13.0 in c:\\users\\swast\\anaconda3\\lib\\site-packages (from rich->keras) (2.15.1)\n",
      "Requirement already satisfied: mdurl~=0.1 in c:\\users\\swast\\anaconda3\\lib\\site-packages (from markdown-it-py>=2.2.0->rich->keras) (0.1.0)\n"
     ]
    }
   ],
   "source": [
    "!pip install keras"
   ]
  },
  {
   "cell_type": "code",
   "execution_count": 104,
   "id": "b2bfef7d-e086-402b-9a95-daa85fd95dc9",
   "metadata": {},
   "outputs": [
    {
     "name": "stdout",
     "output_type": "stream",
     "text": [
      "Requirement already satisfied: tensorflow in c:\\users\\swast\\anaconda3\\lib\\site-packages (2.19.0)\n",
      "Requirement already satisfied: absl-py>=1.0.0 in c:\\users\\swast\\anaconda3\\lib\\site-packages (from tensorflow) (2.2.2)\n",
      "Requirement already satisfied: astunparse>=1.6.0 in c:\\users\\swast\\anaconda3\\lib\\site-packages (from tensorflow) (1.6.3)\n",
      "Requirement already satisfied: flatbuffers>=24.3.25 in c:\\users\\swast\\anaconda3\\lib\\site-packages (from tensorflow) (25.2.10)\n",
      "Requirement already satisfied: gast!=0.5.0,!=0.5.1,!=0.5.2,>=0.2.1 in c:\\users\\swast\\anaconda3\\lib\\site-packages (from tensorflow) (0.6.0)\n",
      "Requirement already satisfied: google-pasta>=0.1.1 in c:\\users\\swast\\anaconda3\\lib\\site-packages (from tensorflow) (0.2.0)\n",
      "Requirement already satisfied: libclang>=13.0.0 in c:\\users\\swast\\anaconda3\\lib\\site-packages (from tensorflow) (18.1.1)\n",
      "Requirement already satisfied: opt-einsum>=2.3.2 in c:\\users\\swast\\anaconda3\\lib\\site-packages (from tensorflow) (3.4.0)\n",
      "Requirement already satisfied: packaging in c:\\users\\swast\\anaconda3\\lib\\site-packages (from tensorflow) (24.1)\n",
      "Requirement already satisfied: protobuf!=4.21.0,!=4.21.1,!=4.21.2,!=4.21.3,!=4.21.4,!=4.21.5,<6.0.0dev,>=3.20.3 in c:\\users\\swast\\anaconda3\\lib\\site-packages (from tensorflow) (4.25.3)\n",
      "Requirement already satisfied: requests<3,>=2.21.0 in c:\\users\\swast\\anaconda3\\lib\\site-packages (from tensorflow) (2.32.3)\n",
      "Requirement already satisfied: setuptools in c:\\users\\swast\\anaconda3\\lib\\site-packages (from tensorflow) (75.1.0)\n",
      "Requirement already satisfied: six>=1.12.0 in c:\\users\\swast\\anaconda3\\lib\\site-packages (from tensorflow) (1.16.0)\n",
      "Requirement already satisfied: termcolor>=1.1.0 in c:\\users\\swast\\anaconda3\\lib\\site-packages (from tensorflow) (3.1.0)\n",
      "Requirement already satisfied: typing-extensions>=3.6.6 in c:\\users\\swast\\anaconda3\\lib\\site-packages (from tensorflow) (4.11.0)\n",
      "Requirement already satisfied: wrapt>=1.11.0 in c:\\users\\swast\\anaconda3\\lib\\site-packages (from tensorflow) (1.14.1)\n",
      "Requirement already satisfied: grpcio<2.0,>=1.24.3 in c:\\users\\swast\\anaconda3\\lib\\site-packages (from tensorflow) (1.71.0)\n",
      "Requirement already satisfied: tensorboard~=2.19.0 in c:\\users\\swast\\anaconda3\\lib\\site-packages (from tensorflow) (2.19.0)\n",
      "Requirement already satisfied: keras>=3.5.0 in c:\\users\\swast\\anaconda3\\lib\\site-packages (from tensorflow) (3.9.2)\n",
      "Requirement already satisfied: numpy<2.2.0,>=1.26.0 in c:\\users\\swast\\anaconda3\\lib\\site-packages (from tensorflow) (1.26.4)\n",
      "Requirement already satisfied: h5py>=3.11.0 in c:\\users\\swast\\anaconda3\\lib\\site-packages (from tensorflow) (3.11.0)\n",
      "Requirement already satisfied: ml-dtypes<1.0.0,>=0.5.1 in c:\\users\\swast\\anaconda3\\lib\\site-packages (from tensorflow) (0.5.1)\n",
      "Requirement already satisfied: wheel<1.0,>=0.23.0 in c:\\users\\swast\\anaconda3\\lib\\site-packages (from astunparse>=1.6.0->tensorflow) (0.44.0)\n",
      "Requirement already satisfied: rich in c:\\users\\swast\\anaconda3\\lib\\site-packages (from keras>=3.5.0->tensorflow) (13.7.1)\n",
      "Requirement already satisfied: namex in c:\\users\\swast\\anaconda3\\lib\\site-packages (from keras>=3.5.0->tensorflow) (0.0.9)\n",
      "Requirement already satisfied: optree in c:\\users\\swast\\anaconda3\\lib\\site-packages (from keras>=3.5.0->tensorflow) (0.15.0)\n",
      "Requirement already satisfied: charset-normalizer<4,>=2 in c:\\users\\swast\\anaconda3\\lib\\site-packages (from requests<3,>=2.21.0->tensorflow) (3.3.2)\n",
      "Requirement already satisfied: idna<4,>=2.5 in c:\\users\\swast\\anaconda3\\lib\\site-packages (from requests<3,>=2.21.0->tensorflow) (3.7)\n",
      "Requirement already satisfied: urllib3<3,>=1.21.1 in c:\\users\\swast\\anaconda3\\lib\\site-packages (from requests<3,>=2.21.0->tensorflow) (2.2.3)\n",
      "Requirement already satisfied: certifi>=2017.4.17 in c:\\users\\swast\\anaconda3\\lib\\site-packages (from requests<3,>=2.21.0->tensorflow) (2024.12.14)\n",
      "Requirement already satisfied: markdown>=2.6.8 in c:\\users\\swast\\anaconda3\\lib\\site-packages (from tensorboard~=2.19.0->tensorflow) (3.4.1)\n",
      "Requirement already satisfied: tensorboard-data-server<0.8.0,>=0.7.0 in c:\\users\\swast\\anaconda3\\lib\\site-packages (from tensorboard~=2.19.0->tensorflow) (0.7.2)\n",
      "Requirement already satisfied: werkzeug>=1.0.1 in c:\\users\\swast\\anaconda3\\lib\\site-packages (from tensorboard~=2.19.0->tensorflow) (3.0.3)\n",
      "Requirement already satisfied: MarkupSafe>=2.1.1 in c:\\users\\swast\\anaconda3\\lib\\site-packages (from werkzeug>=1.0.1->tensorboard~=2.19.0->tensorflow) (2.1.3)\n",
      "Requirement already satisfied: markdown-it-py>=2.2.0 in c:\\users\\swast\\anaconda3\\lib\\site-packages (from rich->keras>=3.5.0->tensorflow) (2.2.0)\n",
      "Requirement already satisfied: pygments<3.0.0,>=2.13.0 in c:\\users\\swast\\anaconda3\\lib\\site-packages (from rich->keras>=3.5.0->tensorflow) (2.15.1)\n",
      "Requirement already satisfied: mdurl~=0.1 in c:\\users\\swast\\anaconda3\\lib\\site-packages (from markdown-it-py>=2.2.0->rich->keras>=3.5.0->tensorflow) (0.1.0)\n"
     ]
    }
   ],
   "source": [
    "!pip install tensorflow"
   ]
  },
  {
   "cell_type": "code",
   "execution_count": null,
   "id": "79fe618a-735c-4b55-84c5-bdd54ab3637c",
   "metadata": {},
   "outputs": [],
   "source": []
  },
  {
   "cell_type": "code",
   "execution_count": 118,
   "id": "f9321273-3058-44ee-bf64-59cb4b286ee9",
   "metadata": {},
   "outputs": [],
   "source": [
    "#tokeniztion+sequencing\n",
    "from tensorflow.keras.preprocessing.text import Tokenizer\n",
    "from tensorflow.keras.preprocessing.sequence import pad_sequences\n",
    "\n",
    "import numpy as np\n",
    "from keras.models import Sequential\n",
    "from keras.layers import Embedding, LSTM, Dense\n",
    "\n",
    "tokenizer = Tokenizer()\n",
    "tokenizer.fit_on_texts([text])\n",
    "sequences = []\n",
    "\n",
    "words = text.split()\n",
    "for i in range(3, len(words)):\n",
    "    seq = words[i-3:i+1]\n",
    "    line = tokenizer.texts_to_sequences([\" \".join(seq)])[0]\n",
    "    sequences.append(line)\n",
    "\n",
    "sequences = np.array(sequences)\n",
    "X, y = sequences[:,:-1], sequences[:,-1]\n",
    "\n",
    "vocab_size = len(tokenizer.word_index) + 1\n"
   ]
  },
  {
   "cell_type": "code",
   "execution_count": 124,
   "id": "0c23bdb7-0d20-4505-9090-5397771c7c2f",
   "metadata": {},
   "outputs": [
    {
     "data": {
      "text/plain": [
       "<keras.src.callbacks.history.History at 0x1df39f50290>"
      ]
     },
     "execution_count": 124,
     "metadata": {},
     "output_type": "execute_result"
    }
   ],
   "source": [
    "#LSTM Model + Training\n",
    "model = Sequential()\n",
    "model.add(Embedding(vocab_size, 10, input_length=3))\n",
    "model.add(LSTM(50))\n",
    "model.add(Dense(vocab_size, activation='softmax'))\n",
    "\n",
    "model.compile(loss='sparse_categorical_crossentropy', optimizer='adam')\n",
    "model.fit(X, y, epochs=500, verbose=0)\n"
   ]
  },
  {
   "cell_type": "code",
   "execution_count": 125,
   "id": "73a7f2c4-d85f-42ea-8baa-237640f9f55b",
   "metadata": {},
   "outputs": [
    {
     "name": "stdout",
     "output_type": "stream",
     "text": [
      "\n",
      "Generated Text:\n",
      " artificial intelligence powers smart assistants robotics\n"
     ]
    }
   ],
   "source": [
    "#Generate Text from Seed\n",
    "seed_text = \"artificial intelligence powers\"\n",
    "for _ in range(3):\n",
    "    token_seq = tokenizer.texts_to_sequences([seed_text])[0][-3:]\n",
    "    token_seq = pad_sequences([token_seq], maxlen=3)\n",
    "    predicted = model.predict(token_seq, verbose=0)\n",
    "    next_word = tokenizer.index_word[np.argmax(predicted)]\n",
    "    seed_text += \" \" + next_word\n",
    "\n",
    "print(\"\\nGenerated Text:\\n\", seed_text)\n"
   ]
  },
  {
   "cell_type": "code",
   "execution_count": null,
   "id": "5d54498b-d3dd-44b2-bd0e-e94c1a82b01a",
   "metadata": {},
   "outputs": [],
   "source": []
  }
 ],
 "metadata": {
  "kernelspec": {
   "display_name": "Python [conda env:base] *",
   "language": "python",
   "name": "conda-base-py"
  },
  "language_info": {
   "codemirror_mode": {
    "name": "ipython",
    "version": 3
   },
   "file_extension": ".py",
   "mimetype": "text/x-python",
   "name": "python",
   "nbconvert_exporter": "python",
   "pygments_lexer": "ipython3",
   "version": "3.12.7"
  }
 },
 "nbformat": 4,
 "nbformat_minor": 5
}
