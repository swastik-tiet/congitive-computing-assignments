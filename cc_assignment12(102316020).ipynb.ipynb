{
 "cells": [
  {
   "cell_type": "markdown",
   "id": "311e8ccf-9af8-4704-b29b-2d39549a2465",
   "metadata": {},
   "source": [
    "1. Deploy a Cognitive Systems or Chatbot for healthcare applications.\n",
    "Use the following conversation-\n",
    "'Hi',\n",
    "'Hello! I am HealthBot. How can I assist you today?',\n",
    "'Hello',\n",
    "'Hi! Do you have a health-related question?',\n",
    "'I have a headache',\n",
    "'You should rest, stay hydrated, and take a mild pain reliever if needed.',\n",
    "'What should I do if I have a fever?',\n",
    "'Drink plenty of fluids and rest. If the fever persists, please consult a doctor.',\n",
    "'I feel dizzy',\n",
    "'Sit down, breathe deeply, and drink water. If it continues, seek medical help.',\n",
    "'What should I eat for a cold?',\n",
    "'Warm fluids, soups, citrus fruits, and light meals help during a cold.',\n",
    "'How to stay healthy?',\n",
    "'Eat balanced meals, exercise regularly, stay hydrated, and get enough sleep.',\n",
    "'What should I do in case of a cut?',\n",
    "'Clean the wound with water, apply antiseptic, and cover it with a clean bandage.',\n",
    "'How much water should I drink daily?',\n",
    "'Generally, 2 to 3 liters per day is recommended, but it varies based on your\n",
    "activity.',\n",
    "'Thank you',\n",
    "'You’re welcome! Take care.',\n",
    "'Bye',\n",
    "'Goodbye! Stay healthy.'"
   ]
  },
  {
   "cell_type": "code",
   "execution_count": 3,
   "id": "9de928e2-0949-43a2-9713-40fe4d6a65c8",
   "metadata": {},
   "outputs": [
    {
     "name": "stdout",
     "output_type": "stream",
     "text": [
      "HealthBot: Hi, I am HealthBot. Type 'bye' to exit.\n"
     ]
    },
    {
     "name": "stdin",
     "output_type": "stream",
     "text": [
      "You:  i am suffering from cold\n"
     ]
    },
    {
     "name": "stdout",
     "output_type": "stream",
     "text": [
      "HealthBot: I'm sorry, I don't have information on that. Please consult a healthcare professional.\n"
     ]
    },
    {
     "name": "stdin",
     "output_type": "stream",
     "text": [
      "You:  what should i do if i have a fever\n"
     ]
    },
    {
     "name": "stdout",
     "output_type": "stream",
     "text": [
      "HealthBot: I'm sorry, I don't have information on that. Please consult a healthcare professional.\n"
     ]
    },
    {
     "name": "stdin",
     "output_type": "stream",
     "text": [
      "You:  what should i eat for a cold?\n"
     ]
    },
    {
     "name": "stdout",
     "output_type": "stream",
     "text": [
      "HealthBot: Warm fluids, soups, citrus fruits, and light meals help during a cold.\n"
     ]
    },
    {
     "name": "stdin",
     "output_type": "stream",
     "text": [
      "You:  bye\n"
     ]
    },
    {
     "name": "stdout",
     "output_type": "stream",
     "text": [
      "HealthBot: Goodbye! Stay healthy.\n"
     ]
    }
   ],
   "source": [
    "# HealthBot - Simple rule-based chatbot\n",
    "\n",
    "def health_bot():\n",
    "    responses = {\n",
    "        \"hi\": \"Hello! I am HealthBot. How can I assist you today?\",\n",
    "        \"hello\": \"Hi! Do you have a health-related question?\",\n",
    "        \"i have a headache\": \"You should rest, stay hydrated, and take a mild pain reliever if needed.\",\n",
    "        \"what should i do if i have a fever?\": \"Drink plenty of fluids and rest. If the fever persists, please consult a doctor.\",\n",
    "        \"i feel dizzy\": \"Sit down, breathe deeply, and drink water. If it continues, seek medical help.\",\n",
    "        \"what should i eat for a cold?\": \"Warm fluids, soups, citrus fruits, and light meals help during a cold.\",\n",
    "        \"how to stay healthy?\": \"Eat balanced meals, exercise regularly, stay hydrated, and get enough sleep.\",\n",
    "        \"what should i do in case of a cut?\": \"Clean the wound with water, apply antiseptic, and cover it with a clean bandage.\",\n",
    "        \"how much water should i drink daily?\": \"Generally, 2 to 3 liters per day is recommended, but it varies based on your activity.\",\n",
    "        \"thank you\": \"You’re welcome! Take care.\",\n",
    "        \"bye\": \"Goodbye! Stay healthy.\"\n",
    "    }\n",
    "\n",
    "    print(\"HealthBot: Hi, I am HealthBot. Type 'bye' to exit.\")\n",
    "\n",
    "    while True:\n",
    "        user_input = input(\"You: \").lower().strip()\n",
    "        if user_input in responses:\n",
    "            print(f\"HealthBot: {responses[user_input]}\")\n",
    "            if user_input == \"bye\":\n",
    "                break\n",
    "        else:\n",
    "            print(\"HealthBot: I'm sorry, I don't have information on that. Please consult a healthcare professional.\")\n",
    "\n",
    "# Run the chatbot\n",
    "health_bot()\n"
   ]
  },
  {
   "cell_type": "code",
   "execution_count": null,
   "id": "ccab0431-7734-4375-89aa-0329bfaacd4c",
   "metadata": {},
   "outputs": [],
   "source": []
  }
 ],
 "metadata": {
  "kernelspec": {
   "display_name": "Python [conda env:base] *",
   "language": "python",
   "name": "conda-base-py"
  },
  "language_info": {
   "codemirror_mode": {
    "name": "ipython",
    "version": 3
   },
   "file_extension": ".py",
   "mimetype": "text/x-python",
   "name": "python",
   "nbconvert_exporter": "python",
   "pygments_lexer": "ipython3",
   "version": "3.12.7"
  }
 },
 "nbformat": 4,
 "nbformat_minor": 5
}
